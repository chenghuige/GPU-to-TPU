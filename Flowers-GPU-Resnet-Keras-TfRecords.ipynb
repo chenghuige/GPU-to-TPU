{
 "cells": [
  {
   "cell_type": "code",
   "execution_count": 1,
   "metadata": {
    "id": "kLCqfUHUF7u1",
    "colab_type": "code",
    "outputId": "4d7aafb2-2641-4cd1-c0de-f5e9b08ad985",
    "executionInfo": {
     "status": "ok",
     "timestamp": 1.553545877984E12,
     "user_tz": 420.0,
     "elapsed": 559.0,
     "user": {
      "displayName": "Rishabh Indoria",
      "photoUrl": "",
      "userId": "02918094268619667018"
     }
    },
    "colab": {
     "base_uri": "https://localhost:8080/",
     "height": 34.0
    }
   },
   "outputs": [
    {
     "name": "stdout",
     "output_type": "stream",
     "text": [
      "Drive already mounted at /content/drive; to attempt to forcibly remount, call drive.mount(\"/content/drive\", force_remount=True).\n"
     ]
    }
   ],
   "source": [
    "from google.colab import drive\n",
    "drive.mount('/content/drive')\n",
    "import os\n",
    "os.chdir(\"/content/drive/My Drive/ResnetTPU\")"
   ]
  },
  {
   "cell_type": "code",
   "execution_count": 0,
   "metadata": {
    "id": "aOUoqhqEHC5e",
    "colab_type": "code",
    "colab": {}
   },
   "outputs": [],
   "source": [
    "from tpu.models.official.resnet import resnet_preprocessing\n",
    "from glob import glob\n",
    "import math\n",
    "import tensorflow as tf\n",
    "from tensorflow.keras.models import Model\n",
    "from tensorflow.keras.layers import Input, Dense, GlobalAveragePooling2D, Dropout\n",
    "from tensorflow.keras.preprocessing.image import ImageDataGenerator\n",
    "from tensorflow.keras.applications.resnet50 import ResNet50, preprocess_input\n",
    "from tensorflow.keras import optimizers\n",
    "from tensorflow.keras.callbacks import TensorBoard\n",
    "import datetime\n",
    "\n",
    "CLASSES = 5\n",
    "TRAIN_IMAGES=2934\n",
    "VAL_IMAGES=364\n",
    "TEST_IMAGES=372\n",
    "EPOCHS = 15\n",
    "BATCH_SIZE=256"
   ]
  },
  {
   "cell_type": "code",
   "execution_count": 0,
   "metadata": {
    "id": "6qss-udKHBNh",
    "colab_type": "code",
    "colab": {}
   },
   "outputs": [],
   "source": [
    "def dataset_parser(value, is_training):\n",
    "    \"\"\"Parses an image and its label from a serialized ResNet-50 TFExample.\n",
    "\n",
    "    Args:\n",
    "      value: serialized string containing an ImageNet TFExample.\n",
    "\n",
    "    Returns:\n",
    "      Returns a tuple of (image, label) from the TFExample.\n",
    "    \"\"\"\n",
    "    keys_to_features = {\n",
    "        'image/encoded': tf.FixedLenFeature((), tf.string, ''),\n",
    "        'image/class/label': tf.FixedLenFeature([], tf.int64, -1),\n",
    "    }\n",
    "\n",
    "    parsed = tf.parse_single_example(value, keys_to_features)\n",
    "    image_bytes = tf.reshape(parsed['image/encoded'], shape=[])\n",
    "\n",
    "    image = resnet_preprocessing.preprocess_image(\n",
    "        image_bytes=image_bytes,\n",
    "        is_training=is_training,\n",
    "        image_size=299,\n",
    "        use_bfloat16=False)\n",
    "\n",
    "    # Subtract one so that labels are in [0, 1000).\n",
    "    label = tf.cast(\n",
    "        tf.reshape(parsed['image/class/label'], shape=[]), dtype=tf.int32) - 1\n",
    "\n",
    "    label = tf.one_hot(label, CLASSES)\n",
    "\n",
    "    return image, label\n",
    "\n",
    "\n",
    "def create_dataset(dir, batch_size, is_training):\n",
    "    dataset = tf.data.Dataset.list_files(file_pattern=\"tf-records/\"+dir+\"-*\",shuffle=False)\n",
    "      \n",
    "    def fetch_dataset(filename):\n",
    "      dataset = tf.data.TFRecordDataset(filenames = filename, buffer_size=1024*1024)\n",
    "      return dataset\n",
    "      \n",
    "    # Read the data from disk in parallel\n",
    "    dataset = dataset.apply(\n",
    "        tf.data.experimental.parallel_interleave(map_func=fetch_dataset, cycle_length=4, sloppy=True))\n",
    "    \n",
    "#     dataset = dataset.repeat()\n",
    "    \n",
    "    dataset = dataset.cache().apply(\n",
    "        tf.data.experimental.shuffle_and_repeat(buffer_size=batch_size*16))\n",
    "    \n",
    "    dataset = dataset.apply(\n",
    "        tf.data.experimental.map_and_batch(\n",
    "            lambda x : dataset_parser(x, is_training),\n",
    "            batch_size=batch_size,\n",
    "            num_parallel_calls=4,\n",
    "            drop_remainder=True))\n",
    "\n",
    "    dataset = dataset.prefetch(tf.contrib.data.AUTOTUNE)\n",
    "    return dataset"
   ]
  },
  {
   "cell_type": "code",
   "execution_count": 4,
   "metadata": {
    "id": "H5OSKa23az_D",
    "colab_type": "code",
    "outputId": "cbc6061e-8091-49b7-d67b-0f72e90d3481",
    "executionInfo": {
     "status": "ok",
     "timestamp": 1.553545517984E12,
     "user_tz": 420.0,
     "elapsed": 787899.0,
     "user": {
      "displayName": "Rishabh Indoria",
      "photoUrl": "",
      "userId": "02918094268619667018"
     }
    },
    "colab": {
     "base_uri": "https://localhost:8080/",
     "height": 904.0
    }
   },
   "outputs": [
    {
     "name": "stdout",
     "output_type": "stream",
     "text": [
      "WARNING:tensorflow:From /usr/local/lib/python3.6/dist-packages/tensorflow/python/ops/resource_variable_ops.py:435: colocate_with (from tensorflow.python.framework.ops) is deprecated and will be removed in a future version.\n",
      "Instructions for updating:\n",
      "Colocations handled automatically by placer.\n"
     ]
    },
    {
     "name": "stderr",
     "output_type": "stream",
     "text": [
      "/usr/local/lib/python3.6/dist-packages/keras_applications/resnet50.py:265: UserWarning: The output shape of `ResNet50(include_top=False)` has been changed since Keras 2.2.0.\n",
      "  warnings.warn('The output shape of `ResNet50(include_top=False)` '\n"
     ]
    },
    {
     "name": "stdout",
     "output_type": "stream",
     "text": [
      "WARNING:tensorflow:From /usr/local/lib/python3.6/dist-packages/tensorflow/python/keras/layers/core.py:143: calling dropout (from tensorflow.python.ops.nn_ops) with keep_prob is deprecated and will be removed in a future version.\n",
      "Instructions for updating:\n",
      "Please use `rate` instead of `keep_prob`. Rate should be set to `rate = 1 - keep_prob`.\n",
      "WARNING:tensorflow:From /content/drive/My Drive/ResnetTPU/tpu/models/official/resnet/resnet_preprocessing.py:66: sample_distorted_bounding_box (from tensorflow.python.ops.image_ops_impl) is deprecated and will be removed in a future version.\n",
      "Instructions for updating:\n",
      "`seed2` arg is deprecated.Use sample_distorted_bounding_box_v2 instead.\n",
      "\n",
      "WARNING: The TensorFlow contrib module will not be included in TensorFlow 2.0.\n",
      "For more information, please see:\n",
      "  * https://github.com/tensorflow/community/blob/master/rfcs/20180907-contrib-sunset.md\n",
      "  * https://github.com/tensorflow/addons\n",
      "If you depend on functionality not listed there, please file an issue.\n",
      "\n",
      "WARNING:tensorflow:From /usr/local/lib/python3.6/dist-packages/tensorflow/python/ops/math_ops.py:3066: to_int32 (from tensorflow.python.ops.math_ops) is deprecated and will be removed in a future version.\n",
      "Instructions for updating:\n",
      "Use tf.cast instead.\n",
      "Epoch 1/15\n",
      "12/12 [==============================] - 71s 6s/step - loss: 1.1947 - acc: 0.5394 - val_loss: 0.7286 - val_acc: 0.7109\n",
      "Epoch 2/15\n",
      "12/12 [==============================] - 50s 4s/step - loss: 0.5991 - acc: 0.7780 - val_loss: 0.5964 - val_acc: 0.7734\n",
      "Epoch 3/15\n",
      "12/12 [==============================] - 50s 4s/step - loss: 0.5136 - acc: 0.8203 - val_loss: 0.6136 - val_acc: 0.7754\n",
      "Epoch 4/15\n",
      "12/12 [==============================] - 50s 4s/step - loss: 0.4362 - acc: 0.8428 - val_loss: 0.5933 - val_acc: 0.7891\n",
      "Epoch 5/15\n",
      "12/12 [==============================] - 49s 4s/step - loss: 0.4168 - acc: 0.8509 - val_loss: 0.5710 - val_acc: 0.7891\n",
      "Epoch 6/15\n",
      "12/12 [==============================] - 49s 4s/step - loss: 0.3993 - acc: 0.8558 - val_loss: 0.5175 - val_acc: 0.8164\n",
      "Epoch 7/15\n",
      "12/12 [==============================] - 49s 4s/step - loss: 0.3947 - acc: 0.8623 - val_loss: 0.5616 - val_acc: 0.8008\n",
      "Epoch 8/15\n",
      "12/12 [==============================] - 49s 4s/step - loss: 0.4103 - acc: 0.8538 - val_loss: 0.4994 - val_acc: 0.8164\n",
      "Epoch 9/15\n",
      "12/12 [==============================] - 49s 4s/step - loss: 0.3597 - acc: 0.8665 - val_loss: 0.5356 - val_acc: 0.8086\n",
      "Epoch 10/15\n",
      "12/12 [==============================] - 50s 4s/step - loss: 0.3774 - acc: 0.8675 - val_loss: 0.5363 - val_acc: 0.8125\n",
      "Epoch 11/15\n",
      "12/12 [==============================] - 49s 4s/step - loss: 0.3699 - acc: 0.8659 - val_loss: 0.5307 - val_acc: 0.8184\n",
      "Epoch 12/15\n",
      "12/12 [==============================] - 50s 4s/step - loss: 0.3437 - acc: 0.8776 - val_loss: 0.5008 - val_acc: 0.8203\n",
      "Epoch 13/15\n",
      "12/12 [==============================] - 49s 4s/step - loss: 0.3345 - acc: 0.8831 - val_loss: 0.5379 - val_acc: 0.8184\n",
      "Epoch 14/15\n",
      "12/12 [==============================] - 49s 4s/step - loss: 0.3408 - acc: 0.8753 - val_loss: 0.4966 - val_acc: 0.8398\n",
      "Epoch 15/15\n",
      "12/12 [==============================] - 49s 4s/step - loss: 0.3430 - acc: 0.8717 - val_loss: 0.5161 - val_acc: 0.8223\n"
     ]
    }
   ],
   "source": [
    "base_model = ResNet50(include_top=False, weights='imagenet', input_shape=(299,299,3), classes=CLASSES)\n",
    "\n",
    "x = base_model.output\n",
    "x = GlobalAveragePooling2D(name='avg_pool')(x)\n",
    "x = Dropout(0.4)(x)\n",
    "predictions = Dense(CLASSES, activation='softmax')(x)\n",
    "model = Model(inputs=base_model.input, outputs=predictions)\n",
    "   \n",
    "# transfer learning\n",
    "for layer in base_model.layers:\n",
    "    layer.trainable = False\n",
    "\n",
    "log_dir = \"logs/\"+datetime.datetime.now().strftime(\"%m-%d-%Y %H:%M:%S\")\n",
    "tensorboard = TensorBoard(log_dir=log_dir)\n",
    "sgd = optimizers.SGD(lr=0.01, decay=1e-6, momentum=0.9, nesterov=True)\n",
    "model.compile(optimizer=sgd,\n",
    "              loss='categorical_crossentropy',\n",
    "              metrics=['accuracy'])\n",
    "\n",
    "model.fit(create_dataset(\"train\", BATCH_SIZE, True), epochs=EPOCHS, steps_per_epoch=math.ceil(TRAIN_IMAGES/BATCH_SIZE), \n",
    "          validation_data=create_dataset(\"validation\", BATCH_SIZE, False), validation_steps=math.ceil(VAL_IMAGES/BATCH_SIZE)\n",
    "          , callbacks=[tensorboard])\n",
    "\n",
    "model.save('flowers-gpu.h5')"
   ]
  },
  {
   "cell_type": "code",
   "execution_count": 6,
   "metadata": {
    "id": "a_rp8PB0KfiQ",
    "colab_type": "code",
    "outputId": "b571c7e1-3363-4dd5-90ee-b08b956f873e",
    "executionInfo": {
     "status": "ok",
     "timestamp": 1.553545976995E12,
     "user_tz": 420.0,
     "elapsed": 26861.0,
     "user": {
      "displayName": "Rishabh Indoria",
      "photoUrl": "",
      "userId": "02918094268619667018"
     }
    },
    "colab": {
     "base_uri": "https://localhost:8080/",
     "height": 51.0
    }
   },
   "outputs": [
    {
     "name": "stdout",
     "output_type": "stream",
     "text": [
      "2/2 [==============================] - 8s 4s/step - loss: 0.4743 - acc: 0.8223\n"
     ]
    },
    {
     "data": {
      "text/plain": [
       "[0.4742580056190491, 0.8222656]"
      ]
     },
     "execution_count": 6,
     "metadata": {
      "tags": []
     },
     "output_type": "execute_result"
    }
   ],
   "source": [
    "from tensorflow.keras.models import load_model\n",
    "import math\n",
    "model = load_model('flowers-gpu.h5')\n",
    "model.evaluate(create_dataset(\"test\", BATCH_SIZE, False), steps=math.ceil(TEST_IMAGES/BATCH_SIZE))"
   ]
  },
  {
   "cell_type": "code",
   "execution_count": 0,
   "metadata": {
    "id": "dXeM89Vv0uZ5",
    "colab_type": "code",
    "outputId": "6d9dad73-292b-4570-d627-c358cf0861e3",
    "executionInfo": {
     "status": "ok",
     "timestamp": 1.553541401424E12,
     "user_tz": 420.0,
     "elapsed": 6602.0,
     "user": {
      "displayName": "Rishabh Indoria",
      "photoUrl": "",
      "userId": "02918094268619667018"
     }
    },
    "colab": {
     "base_uri": "https://localhost:8080/",
     "height": 255.0
    }
   },
   "outputs": [
    {
     "name": "stdout",
     "output_type": "stream",
     "text": [
      "--2019-03-25 19:16:42--  https://bin.equinox.io/c/4VmDzA7iaHb/ngrok-stable-linux-amd64.zip\n",
      "Resolving bin.equinox.io (bin.equinox.io)... 52.86.186.182, 54.152.127.232, 52.87.35.92, ...\n",
      "Connecting to bin.equinox.io (bin.equinox.io)|52.86.186.182|:443... connected.\n",
      "HTTP request sent, awaiting response... 200 OK\n",
      "Length: 13584026 (13M) [application/octet-stream]\n",
      "Saving to: ‘ngrok-stable-linux-amd64.zip’\n",
      "\n",
      "ngrok-stable-linux- 100%[===================>]  12.95M  26.4MB/s    in 0.5s    \n",
      "\n",
      "2019-03-25 19:16:43 (26.4 MB/s) - ‘ngrok-stable-linux-amd64.zip’ saved [13584026/13584026]\n",
      "\n",
      "Archive:  ngrok-stable-linux-amd64.zip\n",
      "replace ngrok? [y]es, [n]o, [A]ll, [N]one, [r]ename: y\n",
      "  inflating: ngrok                   \n"
     ]
    }
   ],
   "source": [
    "!wget https://bin.equinox.io/c/4VmDzA7iaHb/ngrok-stable-linux-amd64.zip\n",
    "!unzip ngrok-stable-linux-amd64.zip"
   ]
  },
  {
   "cell_type": "code",
   "execution_count": 0,
   "metadata": {
    "id": "6HIWmolV6Xp5",
    "colab_type": "code",
    "outputId": "8ef74df0-7ddd-4f14-d596-78df470e1431",
    "executionInfo": {
     "status": "ok",
     "timestamp": 1.553541403E12,
     "user_tz": 420.0,
     "elapsed": 6317.0,
     "user": {
      "displayName": "Rishabh Indoria",
      "photoUrl": "",
      "userId": "02918094268619667018"
     }
    },
    "colab": {
     "base_uri": "https://localhost:8080/",
     "height": 34.0
    }
   },
   "outputs": [
    {
     "name": "stdout",
     "output_type": "stream",
     "text": [
      "http://e7f93fcd.ngrok.io\n"
     ]
    }
   ],
   "source": [
    "LOG_DIR = 'logs'\n",
    "get_ipython().system_raw(\n",
    "    'tensorboard --logdir {} --host 0.0.0.0 --port 6006 &'\n",
    "    .format(LOG_DIR)\n",
    ")\n",
    "\n",
    "get_ipython().system_raw('./ngrok http 6006 &')\n",
    "\n",
    "!curl -s http://localhost:4040/api/tunnels | python3 -c \\\n",
    "    \"import sys, json; print(json.load(sys.stdin)['tunnels'][0]['public_url'])\""
   ]
  }
 ],
 "metadata": {
  "colab": {
   "name": "Flowers-GPU-Resnet-Keras-TfRecords.ipynb",
   "version": "0.3.2",
   "provenance": [
    {
     "file_id": "1mlwQqyL08Wgth4YjW5iHqsSTz1z_tK66",
     "timestamp": 1.551418401166E12
    },
    {
     "file_id": "1InwejHCof8ej_p04Itx24BtMASPsHS93",
     "timestamp": 1.551416726144E12
    },
    {
     "file_id": "18AN2AUM5sEsTMGUzFUL0FLSULtXF4Ps0",
     "timestamp": 1.55087050328E12
    }
   ],
   "collapsed_sections": []
  },
  "kernelspec": {
   "name": "python3",
   "display_name": "Python 3"
  },
  "accelerator": "GPU"
 },
 "nbformat": 4,
 "nbformat_minor": 0
}
