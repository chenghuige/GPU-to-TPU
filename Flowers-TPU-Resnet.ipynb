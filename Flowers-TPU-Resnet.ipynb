{
 "cells": [
  {
   "cell_type": "markdown",
   "metadata": {
    "id": "lQ_z6f0M3-vv",
    "colab_type": "text"
   },
   "source": [
    "# Flowers Resnet Finetuning TPU"
   ]
  },
  {
   "cell_type": "code",
   "execution_count": 1,
   "metadata": {
    "id": "kLCqfUHUF7u1",
    "colab_type": "code",
    "outputId": "e2e2d129-c624-477e-f328-e8b5d312d378",
    "executionInfo": {
     "status": "ok",
     "timestamp": 1.553541483775E12,
     "user_tz": 420.0,
     "elapsed": 18695.0,
     "user": {
      "displayName": "Rishabh Indoria",
      "photoUrl": "",
      "userId": "02918094268619667018"
     }
    },
    "colab": {
     "base_uri": "https://localhost:8080/",
     "height": 122.0
    }
   },
   "outputs": [
    {
     "name": "stdout",
     "output_type": "stream",
     "text": [
      "Go to this URL in a browser: https://accounts.google.com/o/oauth2/auth?client_id=947318989803-6bn6qk8qdgf4n4g3pfee6491hc0brc4i.apps.googleusercontent.com&redirect_uri=urn%3Aietf%3Awg%3Aoauth%3A2.0%3Aoob&scope=email%20https%3A%2F%2Fwww.googleapis.com%2Fauth%2Fdocs.test%20https%3A%2F%2Fwww.googleapis.com%2Fauth%2Fdrive%20https%3A%2F%2Fwww.googleapis.com%2Fauth%2Fdrive.photos.readonly%20https%3A%2F%2Fwww.googleapis.com%2Fauth%2Fpeopleapi.readonly&response_type=code\n",
      "\n",
      "Enter your authorization code:\n",
      "··········\n",
      "Mounted at /content/drive\n"
     ]
    }
   ],
   "source": [
    "from google.colab import drive\n",
    "drive.mount('/content/drive', force_remount=True)\n",
    "import os\n",
    "os.chdir(\"/content/drive/My Drive/ResnetTPU\")"
   ]
  },
  {
   "cell_type": "code",
   "execution_count": 2,
   "metadata": {
    "id": "PzUzzruLofp1",
    "colab_type": "code",
    "colab": {
     "base_uri": "https://localhost:8080/",
     "height": 136.0
    },
    "outputId": "9bd1e241-bf87-46ad-e612-4c877b0e0141",
    "executionInfo": {
     "status": "ok",
     "timestamp": 1.553541505958E12,
     "user_tz": 420.0,
     "elapsed": 40874.0,
     "user": {
      "displayName": "Rishabh Indoria",
      "photoUrl": "",
      "userId": "02918094268619667018"
     }
    }
   },
   "outputs": [
    {
     "name": "stdout",
     "output_type": "stream",
     "text": [
      "\n",
      "WARNING: The TensorFlow contrib module will not be included in TensorFlow 2.0.\n",
      "For more information, please see:\n",
      "  * https://github.com/tensorflow/community/blob/master/rfcs/20180907-contrib-sunset.md\n",
      "  * https://github.com/tensorflow/addons\n",
      "If you depend on functionality not listed there, please file an issue.\n",
      "\n"
     ]
    }
   ],
   "source": [
    "import tensorflow as tf\n",
    "import json\n",
    "# Auth on Colab (little wrinkle: without auth, Colab will be extremely slow in accessing data from a GCS bucket, even public).\n",
    "IS_COLAB_BACKEND = 'COLAB_GPU' in os.environ  # this is always set on Colab, the value is 0 or 1 depending on GPU presence\n",
    "if IS_COLAB_BACKEND:\n",
    "  from google.colab import auth\n",
    "  auth.authenticate_user()  # Starts an Auth prompt\n",
    "  if 'COLAB_TPU_ADDR' in os.environ:  # if using a TPU backend\n",
    "    with tf.Session('grpc://{}'.format(os.environ['COLAB_TPU_ADDR'])) as sess:    \n",
    "      with open('rishabh-229507-693d810284ca.json', 'r') as auth_info:\n",
    "        # Propagate the Colab Auth so that the TPU can access your GCS buckets. This is not necessary for\n",
    "        # the public bucket used in this sample but it will be once you work with your own non-public data.\n",
    "        tf.contrib.cloud.configure_gcs(sess, credentials=json.load(auth_info))  # Upload the credentials to TPU"
   ]
  },
  {
   "cell_type": "code",
   "execution_count": 3,
   "metadata": {
    "id": "iMcZ3F5VyDkJ",
    "colab_type": "code",
    "outputId": "6e546788-0872-4378-f926-0d0ff21bda9d",
    "executionInfo": {
     "status": "ok",
     "timestamp": 1.553541511009E12,
     "user_tz": 420.0,
     "elapsed": 44645.0,
     "user": {
      "displayName": "Rishabh Indoria",
      "photoUrl": "",
      "userId": "02918094268619667018"
     }
    },
    "colab": {
     "base_uri": "https://localhost:8080/",
     "height": 102.0
    }
   },
   "outputs": [
    {
     "name": "stdout",
     "output_type": "stream",
     "text": [
      "Collecting cloud-tpu-profiler\n",
      "\u001b[?25l  Downloading https://files.pythonhosted.org/packages/96/56/9f895c9dd8d2e96f82d807305eb82e91e1ab1a33fbf7b55de76022031a50/cloud_tpu_profiler-1.13.0-py3-none-any.whl (4.2MB)\n",
      "\u001b[K    100% |████████████████████████████████| 4.2MB 3.7MB/s \n",
      "\u001b[?25hInstalling collected packages: cloud-tpu-profiler\n",
      "Successfully installed cloud-tpu-profiler-1.13.0\n"
     ]
    }
   ],
   "source": [
    "!pip install cloud-tpu-profiler"
   ]
  },
  {
   "cell_type": "markdown",
   "metadata": {
    "id": "CcDjDoN-4Bbb",
    "colab_type": "text"
   },
   "source": [
    "## Data preparation\n",
    "\n",
    "Download and unzip the flowers dataset."
   ]
  },
  {
   "cell_type": "code",
   "execution_count": 0,
   "metadata": {
    "id": "4vWT0o6YFcH1",
    "colab_type": "code",
    "colab": {}
   },
   "outputs": [],
   "source": [
    "!wget http://download.tensorflow.org/example_images/flower_photos.tgz"
   ]
  },
  {
   "cell_type": "code",
   "execution_count": 0,
   "metadata": {
    "id": "Nsha2zxXFgh9",
    "colab_type": "code",
    "colab": {}
   },
   "outputs": [],
   "source": [
    "!tar -xzf flower_photos.tgz"
   ]
  },
  {
   "cell_type": "markdown",
   "metadata": {
    "id": "IjyV_KfF989J",
    "colab_type": "text"
   },
   "source": [
    "Split some data for testing and validation."
   ]
  },
  {
   "cell_type": "code",
   "execution_count": 0,
   "metadata": {
    "id": "9-qqB7vmEwJP",
    "colab_type": "code",
    "colab": {}
   },
   "outputs": [],
   "source": [
    "!pip install split-folders"
   ]
  },
  {
   "cell_type": "code",
   "execution_count": 0,
   "metadata": {
    "id": "3aW5uiN7Eyn5",
    "colab_type": "code",
    "colab": {}
   },
   "outputs": [],
   "source": [
    "import split_folders\n",
    "split_folders.ratio(\"flower_photos\", output=\"data\")"
   ]
  },
  {
   "cell_type": "code",
   "execution_count": 0,
   "metadata": {
    "id": "g5qgVZCvYt3H",
    "colab_type": "code",
    "colab": {}
   },
   "outputs": [],
   "source": [
    "#  %set_env GOOGLE_APPLICATION_CREDENTIALS=/content/drive/My Drive/InceptionTPU/rishabh-229507-693d810284ca.json"
   ]
  },
  {
   "cell_type": "code",
   "execution_count": 0,
   "metadata": {
    "id": "57Ptia-MwW8p",
    "colab_type": "code",
    "colab": {}
   },
   "outputs": [],
   "source": [
    "# !gcloud auth activate-service-account --key-file rishabh-229507-693d810284ca.json"
   ]
  },
  {
   "cell_type": "code",
   "execution_count": 0,
   "metadata": {
    "id": "qawkVRURMxMh",
    "colab_type": "code",
    "outputId": "913ce99a-a015-4d72-c9cd-fdd1dbb0aac7",
    "executionInfo": {
     "status": "ok",
     "timestamp": 1.552518297778E12,
     "user_tz": 420.0,
     "elapsed": 10656.0,
     "user": {
      "displayName": "Rishabh Indoria",
      "photoUrl": "",
      "userId": "02918094268619667018"
     }
    },
    "colab": {
     "base_uri": "https://localhost:8080/",
     "height": 102.0
    }
   },
   "outputs": [
    {
     "name": "stdout",
     "output_type": "stream",
     "text": [
      "898\n",
      "699\n",
      "799\n",
      "633\n",
      "641\n"
     ]
    }
   ],
   "source": [
    "!find flower_photos/dandelion -type f | wc -l\n",
    "!find flower_photos/sunflowers -type f | wc -l\n",
    "!find flower_photos/tulips -type f | wc -l\n",
    "!find flower_photos/daisy -type f | wc -l\n",
    "!find flower_photos/roses -type f | wc -l"
   ]
  },
  {
   "cell_type": "code",
   "execution_count": 0,
   "metadata": {
    "id": "8LfAQMIYOfdJ",
    "colab_type": "code",
    "outputId": "08181947-ddda-47c7-8c2a-c7e1c10afb8c",
    "executionInfo": {
     "status": "ok",
     "timestamp": 1.552518284641E12,
     "user_tz": 420.0,
     "elapsed": 22328.0,
     "user": {
      "displayName": "Rishabh Indoria",
      "photoUrl": "",
      "userId": "02918094268619667018"
     }
    },
    "colab": {
     "base_uri": "https://localhost:8080/",
     "height": 68.0
    }
   },
   "outputs": [
    {
     "name": "stdout",
     "output_type": "stream",
     "text": [
      "2934\n",
      "364\n",
      "372\n"
     ]
    }
   ],
   "source": [
    "!find data/train -type f | wc -l\n",
    "!find data/validation -type f | wc -l\n",
    "!find data/test -type f | wc -l"
   ]
  },
  {
   "cell_type": "code",
   "execution_count": 0,
   "metadata": {
    "id": "ONTYbj7eHEAU",
    "colab_type": "code",
    "outputId": "00555d21-e65f-4f72-d958-4a36137dfc73",
    "executionInfo": {
     "status": "ok",
     "timestamp": 1.552518285651E12,
     "user_tz": 420.0,
     "elapsed": 20940.0,
     "user": {
      "displayName": "Rishabh Indoria",
      "photoUrl": "",
      "userId": "02918094268619667018"
     }
    },
    "colab": {
     "base_uri": "https://localhost:8080/",
     "height": 34.0
    }
   },
   "outputs": [
    {
     "name": "stdout",
     "output_type": "stream",
     "text": [
      "\u001b[0m\u001b[01;34mtest\u001b[0m/  \u001b[01;34mtrain\u001b[0m/  \u001b[01;34mvalidation\u001b[0m/\n"
     ]
    }
   ],
   "source": [
    "ls data"
   ]
  },
  {
   "cell_type": "code",
   "execution_count": 0,
   "metadata": {
    "id": "Mm2LkpuE3AIa",
    "colab_type": "code",
    "colab": {}
   },
   "outputs": [],
   "source": [
    "!du -ah --max-depth=2 tf-records | sort -h"
   ]
  },
  {
   "cell_type": "code",
   "execution_count": 0,
   "metadata": {
    "id": "0zFxMzZJa-gi",
    "colab_type": "code",
    "colab": {}
   },
   "outputs": [],
   "source": [
    "!python2 tpu/tools/datasets/imagenet_to_gcs.py \\\n",
    "  --project=\"Rishabh\" \\\n",
    "  --gcs_output_path=\"gs://resnet-tpu-colab/data\" \\\n",
    "  --raw_data_dir=\"data\" \\\n",
    "  --local_scratch_dir=\"tf-records\""
   ]
  },
  {
   "cell_type": "markdown",
   "metadata": {
    "id": "mXByUzJPmYRJ",
    "colab_type": "text"
   },
   "source": [
    "## Transfer learning"
   ]
  },
  {
   "cell_type": "code",
   "execution_count": 0,
   "metadata": {
    "id": "J1Rm1FGeeB3E",
    "colab_type": "code",
    "outputId": "90fe30e1-ac88-4be9-e4f7-a5b11ab75ff4",
    "executionInfo": {
     "status": "ok",
     "timestamp": 1.55251830108E12,
     "user_tz": 420.0,
     "elapsed": 6742.0,
     "user": {
      "displayName": "Rishabh Indoria",
      "photoUrl": "",
      "userId": "02918094268619667018"
     }
    },
    "colab": {
     "base_uri": "https://localhost:8080/",
     "height": 51.0
    }
   },
   "outputs": [
    {
     "name": "stdout",
     "output_type": "stream",
     "text": [
      "gs://resnet-tpu-colab/data/\n",
      "gs://resnet-tpu-colab/resnet-gpu/\n"
     ]
    }
   ],
   "source": [
    "!gsutil ls gs://resnet-tpu-colab/"
   ]
  },
  {
   "cell_type": "code",
   "execution_count": 0,
   "metadata": {
    "id": "iQupYoN0riUp",
    "colab_type": "code",
    "outputId": "62c2ca14-358c-420e-eac9-c5b5c9381a51",
    "executionInfo": {
     "status": "ok",
     "timestamp": 1.551249623718E12,
     "user_tz": 480.0,
     "elapsed": 4651.0,
     "user": {
      "displayName": "Rishabh Indoria",
      "photoUrl": "",
      "userId": "02918094268619667018"
     }
    },
    "colab": {
     "base_uri": "https://localhost:8080/",
     "height": 153.0
    }
   },
   "outputs": [
    {
     "name": "stdout",
     "output_type": "stream",
     "text": [
      "Cloning into 'tpu'...\n",
      "remote: Enumerating objects: 80, done.\u001b[K\n",
      "remote: Counting objects: 100% (80/80), done.\u001b[K\n",
      "remote: Compressing objects: 100% (54/54), done.\u001b[K\n",
      "remote: Total 2752 (delta 35), reused 56 (delta 26), pack-reused 2672\u001b[K\n",
      "Receiving objects: 100% (2752/2752), 3.11 MiB | 6.04 MiB/s, done.\n",
      "Resolving deltas: 100% (1677/1677), done.\n",
      "Checking out files: 100% (263/263), done.\n"
     ]
    }
   ],
   "source": [
    "!git clone https://github.com/tensorflow/tpu.git"
   ]
  },
  {
   "cell_type": "code",
   "execution_count": 4,
   "metadata": {
    "id": "dtUM5YuwZCQk",
    "colab_type": "code",
    "outputId": "bdf035e7-d01f-4424-99dd-39c22b56e990",
    "executionInfo": {
     "status": "ok",
     "timestamp": 1.553541512678E12,
     "user_tz": 420.0,
     "elapsed": 872.0,
     "user": {
      "displayName": "Rishabh Indoria",
      "photoUrl": "",
      "userId": "02918094268619667018"
     }
    },
    "colab": {
     "base_uri": "https://localhost:8080/",
     "height": 34.0
    }
   },
   "outputs": [
    {
     "name": "stdout",
     "output_type": "stream",
     "text": [
      "/content/drive/My Drive/ResnetTPU/tpu/models/official/resnet\n"
     ]
    }
   ],
   "source": [
    "cd tpu/models/official/resnet"
   ]
  },
  {
   "cell_type": "code",
   "execution_count": 5,
   "metadata": {
    "id": "r6q_eWU-JHOf",
    "colab_type": "code",
    "outputId": "7beba960-8f3a-4658-ea00-c6f034ea8750",
    "executionInfo": {
     "status": "ok",
     "timestamp": 1.553541513914E12,
     "user_tz": 420.0,
     "elapsed": 400.0,
     "user": {
      "displayName": "Rishabh Indoria",
      "photoUrl": "",
      "userId": "02918094268619667018"
     }
    },
    "colab": {
     "base_uri": "https://localhost:8080/",
     "height": 34.0
    }
   },
   "outputs": [
    {
     "name": "stdout",
     "output_type": "stream",
     "text": [
      "env: PYTHONPATH=/env/python:/content/drive/My Drive/ResnetTPU/tpu/models\n"
     ]
    }
   ],
   "source": [
    "%set_env PYTHONPATH=/env/python:/content/drive/My Drive/ResnetTPU/tpu/models"
   ]
  },
  {
   "cell_type": "code",
   "execution_count": 6,
   "metadata": {
    "id": "axmTEPJFJd4D",
    "colab_type": "code",
    "outputId": "0c84270b-4036-43ed-e706-59ffa3d387d9",
    "executionInfo": {
     "status": "ok",
     "timestamp": 1.553541516182E12,
     "user_tz": 420.0,
     "elapsed": 1471.0,
     "user": {
      "displayName": "Rishabh Indoria",
      "photoUrl": "",
      "userId": "02918094268619667018"
     }
    },
    "colab": {
     "base_uri": "https://localhost:8080/",
     "height": 34.0
    }
   },
   "outputs": [
    {
     "name": "stdout",
     "output_type": "stream",
     "text": [
      "/env/python:/content/drive/My Drive/ResnetTPU/tpu/models\n"
     ]
    }
   ],
   "source": [
    "!echo $PYTHONPATH"
   ]
  },
  {
   "cell_type": "code",
   "execution_count": 0,
   "metadata": {
    "id": "7nxncI4YXc6V",
    "colab_type": "code",
    "colab": {}
   },
   "outputs": [],
   "source": [
    "cat imagenet_input.py"
   ]
  },
  {
   "cell_type": "code",
   "execution_count": 0,
   "metadata": {
    "id": "34ONxOQonGa9",
    "colab_type": "code",
    "colab": {}
   },
   "outputs": [],
   "source": [
    "# # test to run with unoptimized input pipeline\n",
    "# TPU = 'grpc://' + os.environ['COLAB_TPU_ADDR']\n",
    "# !python2 resnet_main.py \\\n",
    "#   --tpu=$TPU \\\n",
    "#   --data_dir=\"gs://resnet-tpu-colab/data\" \\\n",
    "#   --param_overrides=train_steps=42,iterations_per_loop=6,num_parallel_calls=64,train_batch_size=1024 \\\n",
    "#   --model_dir=\"gs://resnet-tpu-colab/resnet-tpu-basic-model\" \\\n",
    "#   --resnet_checkpoint=\"gs://cloud-tpu-artifacts/resnet/resnet-nhwc-2018-02-07\" \\\n",
    "#   --mode=train \\\n",
    "#   --steps_per_eval=42 \\\n",
    "#   --profile_every_n_steps=1 \\\n",
    "#   --tpu_profile_duration=60000\n",
    "# #   --export_dir=\"gs://resnet-tpu-colab/exported-model\""
   ]
  },
  {
   "cell_type": "code",
   "execution_count": 8,
   "metadata": {
    "id": "9r5vp1q3FrjQ",
    "colab_type": "code",
    "outputId": "bdb9b903-a071-4d87-81e9-619ec9014232",
    "executionInfo": {
     "status": "ok",
     "timestamp": 1.553542002389E12,
     "user_tz": 420.0,
     "elapsed": 267617.0,
     "user": {
      "displayName": "Rishabh Indoria",
      "photoUrl": "",
      "userId": "02918094268619667018"
     }
    },
    "colab": {
     "base_uri": "https://localhost:8080/",
     "height": 3046.0
    }
   },
   "outputs": [
    {
     "name": "stdout",
     "output_type": "stream",
     "text": [
      "I0325 19:22:27.353693 139972175525760 resnet_main.py:553] Model params: {'dropblock_keep_prob': 0.9, 'transpose_input': True, 'use_async_checkpointing': False, 'dropblock_groups': '', 'poly_rate': 0.0, 'dropblock_size': 7, 'precision': 'bfloat16', 'base_learning_rate': 0.1, 'use_cache': True, 'image_size': 299, 'train_batch_size': 1024, 'weight_decay': 0.0001, 'num_train_images': 2934, 'train_steps': 42, 'use_tpu': True, 'skip_host_call': False, 'eval_batch_size': 360, 'num_cores': 8, 'data_format': 'channels_last', 'resnet_depth': 50, 'num_label_classes': 5, 'num_parallel_calls': 64, 'iterations_per_loop': 6, 'num_eval_images': 364, 'label_smoothing': 0.0, 'momentum': 0.9, 'enable_lars': False}\n",
      "I0325 19:22:27.355051 139972175525760 estimator.py:201] Using config: {'_save_checkpoints_secs': None, '_session_config': graph_options {\n",
      "  rewrite_options {\n",
      "    disable_meta_optimizer: true\n",
      "  }\n",
      "}\n",
      "cluster_def {\n",
      "  job {\n",
      "    name: \"worker\"\n",
      "    tasks {\n",
      "      key: 0\n",
      "      value: \"10.93.191.58:8470\"\n",
      "    }\n",
      "  }\n",
      "}\n",
      ", '_keep_checkpoint_max': 5, '_task_type': 'worker', '_train_distribute': None, '_is_chief': True, '_cluster_spec': <tensorflow.python.training.server_lib.ClusterSpec object at 0x7f4d9b31f2d0>, '_model_dir': 'gs://resnet-tpu-colab/resnet-tpu-model', '_protocol': None, '_save_checkpoints_steps': 100, '_keep_checkpoint_every_n_hours': 10000, '_service': None, '_num_ps_replicas': 0, '_tpu_config': TPUConfig(iterations_per_loop=6, num_shards=8, num_cores_per_replica=None, per_host_input_for_training=3, tpu_job_name=None, initial_infeed_sleep_secs=None, input_partition_dims=None), '_tf_random_seed': None, '_save_summary_steps': 100, '_device_fn': None, '_cluster': <tensorflow.python.distribute.cluster_resolver.tpu_cluster_resolver.TPUClusterResolver object at 0x7f4d9b390f90>, '_experimental_distribute': None, '_num_worker_replicas': 1, '_task_id': 0, '_log_step_count_steps': None, '_evaluation_master': 'grpc://10.93.191.58:8470', '_eval_distribute': None, '_global_id_in_cluster': 0, '_master': 'grpc://10.93.191.58:8470'}\n",
      "I0325 19:22:27.355778 139972175525760 tpu_context.py:202] _TPUContext: eval_on_tpu True\n",
      "I0325 19:22:27.356136 139972175525760 resnet_main.py:607] Precision: bfloat16\n",
      "I0325 19:22:27.356240 139972175525760 resnet_main.py:626] Using dataset: gs://resnet-tpu-colab/data\n",
      "I0325 19:22:27.553364 139972175525760 resnet_main.py:703] Training for 42 steps (21.00 epochs in total). Current step 0.\n",
      "W0325 19:22:27.553793 139972175525760 tpu_profiler_hook.py:73] Profiling single TPU pointed by grpc://10.93.191.58:8470. Use tpu name to profile a pod.\n",
      "I0325 19:22:27.554657 139972175525760 tpu_system_metadata.py:59] Querying Tensorflow master (grpc://10.93.191.58:8470) for TPU system metadata.\n",
      "2019-03-25 19:22:27.555940: W tensorflow/core/distributed_runtime/rpc/grpc_session.cc:354] GrpcSession::ListDevices will initialize the session with an empty graph and other defaults because the session has not yet been created.\n",
      "I0325 19:22:27.577701 139972175525760 tpu_system_metadata.py:120] Found TPU system:\n",
      "I0325 19:22:27.577941 139972175525760 tpu_system_metadata.py:121] *** Num TPU Cores: 8\n",
      "I0325 19:22:27.578486 139972175525760 tpu_system_metadata.py:122] *** Num TPU Workers: 1\n",
      "I0325 19:22:27.578603 139972175525760 tpu_system_metadata.py:124] *** Num TPU Cores Per Worker: 8\n",
      "I0325 19:22:27.578684 139972175525760 tpu_system_metadata.py:126] *** Available Device: _DeviceAttributes(/job:worker/replica:0/task:0/device:CPU:0, CPU, -1, 10853704538533252353)\n",
      "I0325 19:22:27.578959 139972175525760 tpu_system_metadata.py:126] *** Available Device: _DeviceAttributes(/job:worker/replica:0/task:0/device:XLA_CPU:0, XLA_CPU, 17179869184, 3438206286760063037)\n",
      "I0325 19:22:27.579041 139972175525760 tpu_system_metadata.py:126] *** Available Device: _DeviceAttributes(/job:worker/replica:0/task:0/device:TPU:0, TPU, 17179869184, 14957718018876596028)\n",
      "I0325 19:22:27.579160 139972175525760 tpu_system_metadata.py:126] *** Available Device: _DeviceAttributes(/job:worker/replica:0/task:0/device:TPU:1, TPU, 17179869184, 12343699706304728517)\n",
      "I0325 19:22:27.579262 139972175525760 tpu_system_metadata.py:126] *** Available Device: _DeviceAttributes(/job:worker/replica:0/task:0/device:TPU:2, TPU, 17179869184, 10320806558425365003)\n",
      "I0325 19:22:27.579344 139972175525760 tpu_system_metadata.py:126] *** Available Device: _DeviceAttributes(/job:worker/replica:0/task:0/device:TPU:3, TPU, 17179869184, 12254743014330382100)\n",
      "I0325 19:22:27.579459 139972175525760 tpu_system_metadata.py:126] *** Available Device: _DeviceAttributes(/job:worker/replica:0/task:0/device:TPU:4, TPU, 17179869184, 2984845030300816149)\n",
      "I0325 19:22:27.579601 139972175525760 tpu_system_metadata.py:126] *** Available Device: _DeviceAttributes(/job:worker/replica:0/task:0/device:TPU:5, TPU, 17179869184, 9824441553382606527)\n",
      "I0325 19:22:27.579715 139972175525760 tpu_system_metadata.py:126] *** Available Device: _DeviceAttributes(/job:worker/replica:0/task:0/device:TPU:6, TPU, 17179869184, 11901687220960610312)\n",
      "I0325 19:22:27.579808 139972175525760 tpu_system_metadata.py:126] *** Available Device: _DeviceAttributes(/job:worker/replica:0/task:0/device:TPU:7, TPU, 17179869184, 10445412943153816664)\n",
      "I0325 19:22:27.579899 139972175525760 tpu_system_metadata.py:126] *** Available Device: _DeviceAttributes(/job:worker/replica:0/task:0/device:TPU_SYSTEM:0, TPU_SYSTEM, 17179869184, 14994638808579595577)\n",
      "W0325 19:22:27.584630 139972175525760 deprecation.py:323] From /usr/local/lib/python2.7/dist-packages/tensorflow/python/ops/resource_variable_ops.py:435: colocate_with (from tensorflow.python.framework.ops) is deprecated and will be removed in a future version.\n",
      "Instructions for updating:\n",
      "Colocations handled automatically by placer.\n",
      "I0325 19:22:27.597596 139972175525760 estimator.py:1111] Calling model_fn.\n",
      "W0325 19:22:27.650106 139972175525760 deprecation.py:323] From /content/drive/My Drive/ResnetTPU/tpu/models/official/resnet/resnet_preprocessing.py:66: sample_distorted_bounding_box (from tensorflow.python.ops.image_ops_impl) is deprecated and will be removed in a future version.\n",
      "Instructions for updating:\n",
      "`seed2` arg is deprecated.Use sample_distorted_bounding_box_v2 instead.\n",
      "W0325 19:22:27.832761 139972175525760 deprecation.py:323] From /content/drive/My Drive/ResnetTPU/tpu/models/official/resnet/resnet_model.py:207: conv2d (from tensorflow.python.layers.convolutional) is deprecated and will be removed in a future version.\n",
      "Instructions for updating:\n",
      "Use keras.layers.conv2d instead.\n",
      "W0325 19:22:27.848870 139972175525760 deprecation.py:323] From /content/drive/My Drive/ResnetTPU/tpu/models/official/resnet/resnet_model.py:66: batch_normalization (from tensorflow.python.layers.normalization) is deprecated and will be removed in a future version.\n",
      "Instructions for updating:\n",
      "Use keras.layers.batch_normalization instead.\n",
      "W0325 19:22:27.895854 139972175525760 deprecation.py:323] From /content/drive/My Drive/ResnetTPU/tpu/models/official/resnet/resnet_model.py:409: max_pooling2d (from tensorflow.python.layers.pooling) is deprecated and will be removed in a future version.\n",
      "Instructions for updating:\n",
      "Use keras.layers.max_pooling2d instead.\n",
      "W0325 19:22:31.725620 139972175525760 deprecation.py:323] From /content/drive/My Drive/ResnetTPU/tpu/models/official/resnet/resnet_model.py:438: average_pooling2d (from tensorflow.python.layers.pooling) is deprecated and will be removed in a future version.\n",
      "Instructions for updating:\n",
      "Use keras.layers.average_pooling2d instead.\n",
      "W0325 19:22:31.730485 139972175525760 deprecation.py:323] From /content/drive/My Drive/ResnetTPU/tpu/models/official/resnet/resnet_model.py:445: dense (from tensorflow.python.layers.core) is deprecated and will be removed in a future version.\n",
      "Instructions for updating:\n",
      "Use keras.layers.dense instead.\n",
      "W0325 19:22:31.793550 139972175525760 deprecation.py:323] From /usr/local/lib/python2.7/dist-packages/tensorflow/python/ops/losses/losses_impl.py:209: to_float (from tensorflow.python.ops.math_ops) is deprecated and will be removed in a future version.\n",
      "Instructions for updating:\n",
      "Use tf.cast instead.\n",
      "I0325 19:22:32.771385 139972175525760 basic_session_run_hooks.py:527] Create CheckpointSaverHook.\n",
      "I0325 19:22:33.062232 139972175525760 estimator.py:1113] Done calling model_fn.\n",
      "I0325 19:22:34.756038 139972175525760 tpu_estimator.py:447] TPU job name worker\n",
      "I0325 19:22:35.558717 139972175525760 monitored_session.py:222] Graph was finalized.\n",
      "W0325 19:22:36.380857 139972175525760 deprecation.py:323] From /usr/local/lib/python2.7/dist-packages/tensorflow/python/training/saver.py:1266: checkpoint_exists (from tensorflow.python.training.checkpoint_management) is deprecated and will be removed in a future version.\n",
      "Instructions for updating:\n",
      "Use standard file APIs to check for files with this prefix.\n",
      "I0325 19:22:36.460338 139972175525760 saver.py:1270] Restoring parameters from gs://cloud-tpu-artifacts/resnet/resnet-nhwc-2018-02-07/model.ckpt-112603\n",
      "I0325 19:22:45.098337 139972175525760 session_manager.py:491] Running local_init_op.\n",
      "I0325 19:22:45.138900 139972175525760 session_manager.py:493] Done running local_init_op.\n",
      "I0325 19:22:49.223922 139972175525760 basic_session_run_hooks.py:594] Saving checkpoints for 112603 into gs://resnet-tpu-colab/resnet-tpu-model/model.ckpt.\n",
      "I0325 19:22:56.682106 139972175525760 util.py:51] Initialized dataset iterators in 0 seconds\n",
      "I0325 19:22:56.682929 139972175525760 session_support.py:345] Installing graceful shutdown hook.\n",
      "2019-03-25 19:22:56.683343: W tensorflow/core/distributed_runtime/rpc/grpc_session.cc:354] GrpcSession::ListDevices will initialize the session with an empty graph and other defaults because the session has not yet been created.\n",
      "I0325 19:22:56.690365 139972175525760 session_support.py:102] Creating heartbeat manager for ['/job:worker/replica:0/task:0/device:CPU:0']\n",
      "I0325 19:22:56.707592 139972175525760 session_support.py:130] Configuring worker heartbeat: shutdown_mode: WAIT_FOR_COORDINATOR\n",
      "\n",
      "I0325 19:22:56.712336 139972175525760 tpu_estimator.py:504] Init TPU system\n",
      "I0325 19:23:01.899019 139972175525760 tpu_estimator.py:510] Initialized TPU in 5 seconds\n",
      "I0325 19:23:02.455363 139971149797120 tpu_estimator.py:463] Starting infeed thread controller.\n",
      "I0325 19:23:02.456387 139971141404416 tpu_estimator.py:482] Starting outfeed thread controller.\n",
      "I0325 19:23:02.507292 139972175525760 tpu_estimator.py:536] Enqueue next (6) batch(es) of data to infeed.\n",
      "I0325 19:23:02.508131 139972175525760 tpu_estimator.py:540] Dequeue next (6) batch(es) of data from outfeed.\n",
      "I0325 19:25:32.284621 139972175525760 basic_session_run_hooks.py:249] loss = 1.5449482, step = 112609\n",
      "I0325 19:25:32.287441 139972175525760 tpu_estimator.py:536] Enqueue next (6) batch(es) of data to infeed.\n",
      "I0325 19:25:32.287955 139972175525760 tpu_estimator.py:540] Dequeue next (6) batch(es) of data from outfeed.\n",
      "I0325 19:25:34.195159 139972175525760 tpu_profiler_hook.py:119] Saving profile at step 112615 with command ['/usr/local/bin/capture_tpu_profile', '--duration_ms=15000', '--service_addr=10.93.191.58:8470', '--workers_list=10.93.191.58', '--logdir=gs://resnet-tpu-colab/resnet-tpu-model']\n",
      "I0325 19:25:34.246917 139972175525760 tpu_estimator.py:536] Enqueue next (6) batch(es) of data to infeed.\n",
      "I0325 19:25:34.247667 139972175525760 tpu_estimator.py:540] Dequeue next (6) batch(es) of data from outfeed.\n",
      "I0325 19:25:35.463479 139972175525760 tpu_estimator.py:536] Enqueue next (6) batch(es) of data to infeed.\n",
      "I0325 19:25:35.464550 139972175525760 tpu_estimator.py:540] Dequeue next (6) batch(es) of data from outfeed.\n",
      "TensorFlow version 1.13.1 detected\n",
      "Welcome to the Cloud TPU Profiler v1.13.0\n",
      "Starting to profile TPU traces for 15000 ms. Remaining attempt(s): 3\n",
      "I0325 19:25:36.619043 139972175525760 tpu_profiler_hook.py:115] Profiler is already running, skipping collection at step 112627\n",
      "I0325 19:25:36.626672 139972175525760 tpu_estimator.py:536] Enqueue next (6) batch(es) of data to infeed.\n",
      "I0325 19:25:36.627058 139972175525760 tpu_estimator.py:540] Dequeue next (6) batch(es) of data from outfeed.\n",
      "I0325 19:25:37.903240 139972175525760 tpu_estimator.py:536] Enqueue next (6) batch(es) of data to infeed.\n",
      "I0325 19:25:37.903593 139972175525760 tpu_estimator.py:540] Dequeue next (6) batch(es) of data from outfeed.\n",
      "I0325 19:25:39.084661 139972175525760 tpu_profiler_hook.py:115] Profiler is already running, skipping collection at step 112639\n",
      "I0325 19:25:39.089562 139972175525760 tpu_estimator.py:536] Enqueue next (6) batch(es) of data to infeed.\n",
      "I0325 19:25:39.089849 139972175525760 tpu_estimator.py:540] Dequeue next (6) batch(es) of data from outfeed.\n",
      "I0325 19:25:40.214721 139972175525760 basic_session_run_hooks.py:594] Saving checkpoints for 112645 into gs://resnet-tpu-colab/resnet-tpu-model/model.ckpt.\n",
      "I0325 19:25:47.222189 139972175525760 tpu_estimator.py:545] Stop infeed thread controller\n",
      "I0325 19:25:47.222541 139972175525760 tpu_estimator.py:392] Shutting down InfeedController thread.\n",
      "I0325 19:25:47.222923 139971149797120 tpu_estimator.py:387] InfeedController received shutdown signal, stopping.\n",
      "I0325 19:25:47.223264 139971149797120 tpu_estimator.py:479] Infeed thread finished, shutting down.\n",
      "I0325 19:25:47.223572 139972175525760 error_handling.py:93] infeed marked as finished\n",
      "I0325 19:25:47.223850 139972175525760 tpu_estimator.py:549] Stop output thread controller\n",
      "I0325 19:25:47.223937 139972175525760 tpu_estimator.py:392] Shutting down OutfeedController thread.\n",
      "I0325 19:25:47.224162 139971141404416 tpu_estimator.py:387] OutfeedController received shutdown signal, stopping.\n",
      "I0325 19:25:47.224262 139971141404416 tpu_estimator.py:488] Outfeed thread finished, shutting down.\n",
      "I0325 19:25:47.224621 139972175525760 error_handling.py:93] outfeed marked as finished\n",
      "I0325 19:25:47.224858 139972175525760 tpu_estimator.py:553] Shutdown TPU system.\n",
      "I0325 19:25:47.903409 139972175525760 estimator.py:359] Loss for final step: 0.9323996.\n",
      "I0325 19:25:47.904171 139972175525760 error_handling.py:93] training_loop marked as finished\n",
      "I0325 19:25:47.904336 139972175525760 resnet_main.py:746] Finished training up to step 42. Elapsed seconds 200.\n",
      "I0325 19:25:47.904422 139972175525760 resnet_main.py:752] Starting to evaluate.\n",
      "I0325 19:25:48.290852 139972175525760 estimator.py:1111] Calling model_fn.\n",
      "W0325 19:25:52.084611 139972175525760 deprecation.py:323] From /usr/local/lib/python2.7/dist-packages/tensorflow/contrib/tpu/python/tpu/tpu_estimator.py:2655: div (from tensorflow.python.ops.math_ops) is deprecated and will be removed in a future version.\n",
      "Instructions for updating:\n",
      "Deprecated in favor of operator or tf.math.divide.\n",
      "I0325 19:25:52.432117 139972175525760 estimator.py:1113] Done calling model_fn.\n",
      "I0325 19:25:52.450223 139972175525760 evaluation.py:257] Starting evaluation at 2019-03-25T19:25:52Z\n",
      "I0325 19:25:52.450520 139972175525760 tpu_estimator.py:447] TPU job name worker\n",
      "I0325 19:25:53.165591 139972175525760 monitored_session.py:222] Graph was finalized.\n",
      "I0325 19:25:53.256493 139972175525760 saver.py:1270] Restoring parameters from gs://resnet-tpu-colab/resnet-tpu-model/model.ckpt-112645\n",
      "I0325 19:25:57.625293 139972175525760 session_manager.py:491] Running local_init_op.\n",
      "I0325 19:25:57.658991 139972175525760 session_manager.py:493] Done running local_init_op.\n",
      "I0325 19:25:57.730179 139972175525760 tpu_estimator.py:504] Init TPU system\n",
      "Profile session succeed for host(s):10.93.191.58\n",
      "I0325 19:26:05.003458 139972175525760 tpu_estimator.py:510] Initialized TPU in 7 seconds\n",
      "I0325 19:26:05.004537 139971127510784 tpu_estimator.py:463] Starting infeed thread controller.\n",
      "I0325 19:26:05.005306 139971119118080 tpu_estimator.py:482] Starting outfeed thread controller.\n",
      "I0325 19:26:05.469752 139972175525760 util.py:51] Initialized dataset iterators in 0 seconds\n",
      "I0325 19:26:05.502293 139972175525760 tpu_estimator.py:536] Enqueue next (1) batch(es) of data to infeed.\n",
      "I0325 19:26:05.502726 139972175525760 tpu_estimator.py:540] Dequeue next (1) batch(es) of data from outfeed.\n",
      "I0325 19:26:26.699914 139972175525760 evaluation.py:169] Evaluation [1/1]\n",
      "I0325 19:26:26.700637 139972175525760 tpu_estimator.py:545] Stop infeed thread controller\n",
      "I0325 19:26:26.700813 139972175525760 tpu_estimator.py:392] Shutting down InfeedController thread.\n",
      "I0325 19:26:26.701180 139971127510784 tpu_estimator.py:387] InfeedController received shutdown signal, stopping.\n",
      "I0325 19:26:26.701562 139971127510784 tpu_estimator.py:479] Infeed thread finished, shutting down.\n",
      "I0325 19:26:26.701858 139972175525760 error_handling.py:93] infeed marked as finished\n",
      "I0325 19:26:26.702105 139972175525760 tpu_estimator.py:549] Stop output thread controller\n",
      "I0325 19:26:26.702217 139972175525760 tpu_estimator.py:392] Shutting down OutfeedController thread.\n",
      "I0325 19:26:26.702428 139971119118080 tpu_estimator.py:387] OutfeedController received shutdown signal, stopping.\n",
      "I0325 19:26:26.702647 139971119118080 tpu_estimator.py:488] Outfeed thread finished, shutting down.\n",
      "I0325 19:26:26.702925 139972175525760 error_handling.py:93] outfeed marked as finished\n",
      "I0325 19:26:26.703145 139972175525760 tpu_estimator.py:553] Shutdown TPU system.\n",
      "I0325 19:26:26.919795 139972175525760 evaluation.py:277] Finished evaluation at 2019-03-25-19:26:26\n",
      "I0325 19:26:26.920255 139972175525760 estimator.py:1979] Saving dict for global step 112645: global_step = 112645, loss = 0.8409469, top_1_accuracy = 0.8472222, top_5_accuracy = 1.0\n",
      "I0325 19:26:30.101655 139972175525760 estimator.py:2039] Saving 'checkpoint_path' summary for global step 112645: gs://resnet-tpu-colab/resnet-tpu-model/model.ckpt-112645\n",
      "I0325 19:26:30.532510 139972175525760 error_handling.py:93] evaluation_loop marked as finished\n",
      "I0325 19:26:30.532862 139972175525760 resnet_main.py:757] Eval results at step 42: {'loss': 0.8409469, 'top_1_accuracy': 0.8472222, 'global_step': 112645, 'top_5_accuracy': 1.0}\n",
      "I0325 19:26:30.533010 139972175525760 resnet_main.py:761] Finished training up to step 42. Elapsed seconds 242.\n",
      "I0325 19:26:30.533134 139972175525760 resnet_main.py:766] Starting to export model.\n",
      "I0325 19:26:31.855974 139972175525760 estimator.py:1111] Calling model_fn.\n",
      "I0325 19:26:31.856406 139972175525760 tpu_estimator.py:2532] Running infer on CPU\n",
      "I0325 19:26:33.809129 139972175525760 estimator.py:1113] Done calling model_fn.\n",
      "W0325 19:26:33.809590 139972175525760 deprecation.py:323] From /usr/local/lib/python2.7/dist-packages/tensorflow/python/saved_model/signature_def_utils_impl.py:205: build_tensor_info (from tensorflow.python.saved_model.utils_impl) is deprecated and will be removed in a future version.\n",
      "Instructions for updating:\n",
      "This function will only be available through the v1 compatibility library as tf.compat.v1.saved_model.utils.build_tensor_info or tf.compat.v1.saved_model.build_tensor_info.\n",
      "I0325 19:26:33.810071 139972175525760 export.py:587] Signatures INCLUDED in export for Eval: None\n",
      "I0325 19:26:33.810225 139972175525760 export.py:587] Signatures INCLUDED in export for Classify: None\n",
      "I0325 19:26:33.810312 139972175525760 export.py:587] Signatures INCLUDED in export for Regress: None\n",
      "I0325 19:26:33.810395 139972175525760 export.py:587] Signatures INCLUDED in export for Predict: ['serving_default', 'classify']\n",
      "I0325 19:26:33.810468 139972175525760 export.py:587] Signatures INCLUDED in export for Train: None\n",
      "2019-03-25 19:26:33.914660: I tensorflow/core/platform/profile_utils/cpu_utils.cc:94] CPU Frequency: 2300000000 Hz\n",
      "2019-03-25 19:26:33.921740: I tensorflow/compiler/xla/service/service.cc:150] XLA service 0x55a60e271de0 executing computations on platform Host. Devices:\n",
      "2019-03-25 19:26:33.921862: I tensorflow/compiler/xla/service/service.cc:158]   StreamExecutor device (0): <undefined>, <undefined>\n",
      "I0325 19:26:34.331151 139972175525760 saver.py:1270] Restoring parameters from gs://resnet-tpu-colab/resnet-tpu-model/model.ckpt-112645\n",
      "I0325 19:26:39.656276 139972175525760 builder_impl.py:654] Assets added to graph.\n",
      "I0325 19:26:39.656528 139972175525760 builder_impl.py:449] No assets to write.\n",
      "I0325 19:26:46.246591 139972175525760 builder_impl.py:414] SavedModel written to: gs://resnet-tpu-colab/exported-model/temp-1553541990/saved_model.pb\n"
     ]
    }
   ],
   "source": [
    "TPU = 'grpc://' + os.environ['COLAB_TPU_ADDR']\n",
    "!python2 resnet_main.py \\\n",
    "  --tpu=$TPU \\\n",
    "  --data_dir=\"gs://resnet-tpu-colab/data\" \\\n",
    "  --param_overrides=train_steps=42,iterations_per_loop=6,num_parallel_calls=64,train_batch_size=1024 \\\n",
    "  --model_dir=\"gs://resnet-tpu-colab/resnet-tpu-model\" \\\n",
    "  --resnet_checkpoint=\"gs://cloud-tpu-artifacts/resnet/resnet-nhwc-2018-02-07\" \\\n",
    "  --mode=train_and_eval \\\n",
    "  --steps_per_eval=42 \\\n",
    "  --profile_every_n_steps=1 \\\n",
    "  --tpu_profile_duration=15000 \\\n",
    "  --export_dir=\"gs://resnet-tpu-colab/exported-model\""
   ]
  },
  {
   "cell_type": "code",
   "execution_count": 0,
   "metadata": {
    "id": "g7naMjMut5vb",
    "colab_type": "code",
    "colab": {}
   },
   "outputs": [],
   "source": [
    "!python2 resnet_main.py \\\n",
    "  --tpu=$TPU \\\n",
    "  --data_dir=\"gs://resnet-tpu-colab/data\" \\\n",
    "  --model_dir=\"gs://resnet-tpu-colab/resnet-tpu-model\" \\\n",
    "  --mode=eval"
   ]
  },
  {
   "cell_type": "code",
   "execution_count": 9,
   "metadata": {
    "id": "IErp99Cn3pQ5",
    "colab_type": "code",
    "outputId": "44351400-0e2e-4df1-8065-361e7eb25c31",
    "executionInfo": {
     "status": "ok",
     "timestamp": 1.553542158449E12,
     "user_tz": 420.0,
     "elapsed": 160918.0,
     "user": {
      "displayName": "Rishabh Indoria",
      "photoUrl": "",
      "userId": "02918094268619667018"
     }
    },
    "colab": {
     "base_uri": "https://localhost:8080/",
     "height": 14385.0
    }
   },
   "outputs": [
    {
     "name": "stdout",
     "output_type": "stream",
     "text": [
      "I0325 19:26:54.431488 139948228130688 resnet_main.py:553] Model params: {'dropblock_keep_prob': 0.9, 'transpose_input': True, 'use_async_checkpointing': False, 'dropblock_groups': '', 'poly_rate': 0.0, 'dropblock_size': 7, 'precision': 'bfloat16', 'base_learning_rate': 0.1, 'use_cache': True, 'image_size': 299, 'train_batch_size': 1024, 'weight_decay': 0.0001, 'num_train_images': 2934, 'train_steps': 120, 'use_tpu': True, 'skip_host_call': False, 'eval_batch_size': 360, 'num_cores': 8, 'data_format': 'channels_last', 'resnet_depth': 50, 'num_label_classes': 5, 'num_parallel_calls': 8, 'iterations_per_loop': 3, 'num_eval_images': 364, 'label_smoothing': 0.0, 'momentum': 0.9, 'enable_lars': False}\n",
      "I0325 19:26:54.432765 139948228130688 estimator.py:201] Using config: {'_save_checkpoints_secs': None, '_session_config': graph_options {\n",
      "  rewrite_options {\n",
      "    disable_meta_optimizer: true\n",
      "  }\n",
      "}\n",
      "cluster_def {\n",
      "  job {\n",
      "    name: \"worker\"\n",
      "    tasks {\n",
      "      key: 0\n",
      "      value: \"10.93.191.58:8470\"\n",
      "    }\n",
      "  }\n",
      "}\n",
      ", '_keep_checkpoint_max': 5, '_task_type': 'worker', '_train_distribute': None, '_is_chief': True, '_cluster_spec': <tensorflow.python.training.server_lib.ClusterSpec object at 0x7f4807d1b210>, '_model_dir': 'gs://resnet-tpu-colab/resnet-tpu-model', '_protocol': None, '_save_checkpoints_steps': 100, '_keep_checkpoint_every_n_hours': 10000, '_service': None, '_num_ps_replicas': 0, '_tpu_config': TPUConfig(iterations_per_loop=3, num_shards=8, num_cores_per_replica=None, per_host_input_for_training=3, tpu_job_name=None, initial_infeed_sleep_secs=None, input_partition_dims=None), '_tf_random_seed': None, '_save_summary_steps': 100, '_device_fn': None, '_cluster': <tensorflow.python.distribute.cluster_resolver.tpu_cluster_resolver.TPUClusterResolver object at 0x7f4807d8cf90>, '_experimental_distribute': None, '_num_worker_replicas': 1, '_task_id': 0, '_log_step_count_steps': None, '_evaluation_master': 'grpc://10.93.191.58:8470', '_eval_distribute': None, '_global_id_in_cluster': 0, '_master': 'grpc://10.93.191.58:8470'}\n",
      "I0325 19:26:54.433491 139948228130688 tpu_context.py:202] _TPUContext: eval_on_tpu True\n",
      "I0325 19:26:54.433810 139948228130688 resnet_main.py:607] Precision: bfloat16\n",
      "I0325 19:26:54.433922 139948228130688 resnet_main.py:626] Using dataset: gs://resnet-tpu-colab/data\n",
      "I0325 19:26:54.434345 139948228130688 tpu_system_metadata.py:59] Querying Tensorflow master (grpc://10.93.191.58:8470) for TPU system metadata.\n",
      "2019-03-25 19:26:54.435486: W tensorflow/core/distributed_runtime/rpc/grpc_session.cc:354] GrpcSession::ListDevices will initialize the session with an empty graph and other defaults because the session has not yet been created.\n",
      "I0325 19:26:54.449421 139948228130688 tpu_system_metadata.py:120] Found TPU system:\n",
      "I0325 19:26:54.449680 139948228130688 tpu_system_metadata.py:121] *** Num TPU Cores: 8\n",
      "I0325 19:26:54.450258 139948228130688 tpu_system_metadata.py:122] *** Num TPU Workers: 1\n",
      "I0325 19:26:54.450347 139948228130688 tpu_system_metadata.py:124] *** Num TPU Cores Per Worker: 8\n",
      "I0325 19:26:54.450436 139948228130688 tpu_system_metadata.py:126] *** Available Device: _DeviceAttributes(/job:worker/replica:0/task:0/device:CPU:0, CPU, -1, 10853704538533252353)\n",
      "I0325 19:26:54.450722 139948228130688 tpu_system_metadata.py:126] *** Available Device: _DeviceAttributes(/job:worker/replica:0/task:0/device:XLA_CPU:0, XLA_CPU, 17179869184, 3438206286760063037)\n",
      "I0325 19:26:54.450803 139948228130688 tpu_system_metadata.py:126] *** Available Device: _DeviceAttributes(/job:worker/replica:0/task:0/device:TPU:0, TPU, 17179869184, 14957718018876596028)\n",
      "I0325 19:26:54.450895 139948228130688 tpu_system_metadata.py:126] *** Available Device: _DeviceAttributes(/job:worker/replica:0/task:0/device:TPU:1, TPU, 17179869184, 12343699706304728517)\n",
      "I0325 19:26:54.450973 139948228130688 tpu_system_metadata.py:126] *** Available Device: _DeviceAttributes(/job:worker/replica:0/task:0/device:TPU:2, TPU, 17179869184, 10320806558425365003)\n",
      "I0325 19:26:54.451050 139948228130688 tpu_system_metadata.py:126] *** Available Device: _DeviceAttributes(/job:worker/replica:0/task:0/device:TPU:3, TPU, 17179869184, 12254743014330382100)\n",
      "I0325 19:26:54.451150 139948228130688 tpu_system_metadata.py:126] *** Available Device: _DeviceAttributes(/job:worker/replica:0/task:0/device:TPU:4, TPU, 17179869184, 2984845030300816149)\n",
      "I0325 19:26:54.451221 139948228130688 tpu_system_metadata.py:126] *** Available Device: _DeviceAttributes(/job:worker/replica:0/task:0/device:TPU:5, TPU, 17179869184, 9824441553382606527)\n",
      "I0325 19:26:54.451291 139948228130688 tpu_system_metadata.py:126] *** Available Device: _DeviceAttributes(/job:worker/replica:0/task:0/device:TPU:6, TPU, 17179869184, 11901687220960610312)\n",
      "I0325 19:26:54.451368 139948228130688 tpu_system_metadata.py:126] *** Available Device: _DeviceAttributes(/job:worker/replica:0/task:0/device:TPU:7, TPU, 17179869184, 10445412943153816664)\n",
      "I0325 19:26:54.451452 139948228130688 tpu_system_metadata.py:126] *** Available Device: _DeviceAttributes(/job:worker/replica:0/task:0/device:TPU_SYSTEM:0, TPU_SYSTEM, 17179869184, 14994638808579595577)\n",
      "W0325 19:26:54.784348 139948228130688 deprecation.py:323] From /usr/local/lib/python2.7/dist-packages/tensorflow/python/ops/resource_variable_ops.py:435: colocate_with (from tensorflow.python.framework.ops) is deprecated and will be removed in a future version.\n",
      "Instructions for updating:\n",
      "Colocations handled automatically by placer.\n",
      "I0325 19:26:54.787368 139948228130688 estimator.py:1111] Calling model_fn.\n",
      "W0325 19:26:55.002409 139948228130688 deprecation.py:323] From /content/drive/My Drive/ResnetTPU/tpu/models/official/resnet/resnet_model.py:207: conv2d (from tensorflow.python.layers.convolutional) is deprecated and will be removed in a future version.\n",
      "Instructions for updating:\n",
      "Use keras.layers.conv2d instead.\n",
      "W0325 19:26:55.020929 139948228130688 deprecation.py:323] From /content/drive/My Drive/ResnetTPU/tpu/models/official/resnet/resnet_model.py:66: batch_normalization (from tensorflow.python.layers.normalization) is deprecated and will be removed in a future version.\n",
      "Instructions for updating:\n",
      "Use keras.layers.batch_normalization instead.\n",
      "W0325 19:26:55.052860 139948228130688 deprecation.py:323] From /content/drive/My Drive/ResnetTPU/tpu/models/official/resnet/resnet_model.py:409: max_pooling2d (from tensorflow.python.layers.pooling) is deprecated and will be removed in a future version.\n",
      "Instructions for updating:\n",
      "Use keras.layers.max_pooling2d instead.\n",
      "W0325 19:26:57.959779 139948228130688 deprecation.py:323] From /content/drive/My Drive/ResnetTPU/tpu/models/official/resnet/resnet_model.py:438: average_pooling2d (from tensorflow.python.layers.pooling) is deprecated and will be removed in a future version.\n",
      "Instructions for updating:\n",
      "Use keras.layers.average_pooling2d instead.\n",
      "W0325 19:26:57.964462 139948228130688 deprecation.py:323] From /content/drive/My Drive/ResnetTPU/tpu/models/official/resnet/resnet_model.py:445: dense (from tensorflow.python.layers.core) is deprecated and will be removed in a future version.\n",
      "Instructions for updating:\n",
      "Use keras.layers.dense instead.\n",
      "W0325 19:26:58.031873 139948228130688 deprecation.py:323] From /usr/local/lib/python2.7/dist-packages/tensorflow/python/ops/losses/losses_impl.py:209: to_float (from tensorflow.python.ops.math_ops) is deprecated and will be removed in a future version.\n",
      "Instructions for updating:\n",
      "Use tf.cast instead.\n",
      "W0325 19:26:58.072669 139948228130688 deprecation.py:323] From /usr/local/lib/python2.7/dist-packages/tensorflow/contrib/tpu/python/tpu/tpu_estimator.py:2655: div (from tensorflow.python.ops.math_ops) is deprecated and will be removed in a future version.\n",
      "Instructions for updating:\n",
      "Deprecated in favor of operator or tf.math.divide.\n",
      "I0325 19:26:58.569091 139948228130688 estimator.py:1113] Done calling model_fn.\n",
      "I0325 19:26:58.586899 139948228130688 evaluation.py:257] Starting evaluation at 2019-03-25T19:26:58Z\n",
      "I0325 19:26:58.587241 139948228130688 tpu_estimator.py:447] TPU job name worker\n",
      "I0325 19:26:59.290278 139948228130688 monitored_session.py:222] Graph was finalized.\n",
      "W0325 19:26:59.291073 139948228130688 deprecation.py:323] From /usr/local/lib/python2.7/dist-packages/tensorflow/python/training/saver.py:1266: checkpoint_exists (from tensorflow.python.training.checkpoint_management) is deprecated and will be removed in a future version.\n",
      "Instructions for updating:\n",
      "Use standard file APIs to check for files with this prefix.\n",
      "I0325 19:26:59.387047 139948228130688 saver.py:1270] Restoring parameters from gs://resnet-tpu-colab/resnet-tpu-model/model.ckpt-112645\n",
      "I0325 19:27:00.133965 139948228130688 session_manager.py:491] Running local_init_op.\n",
      "I0325 19:27:00.171827 139948228130688 session_manager.py:493] Done running local_init_op.\n",
      "I0325 19:27:00.238467 139948228130688 tpu_estimator.py:504] Init TPU system\n",
      "I0325 19:27:10.441265 139948228130688 tpu_estimator.py:510] Initialized TPU in 10 seconds\n",
      "I0325 19:27:10.442897 139947240945408 tpu_estimator.py:463] Starting infeed thread controller.\n",
      "I0325 19:27:10.443888 139947232552704 tpu_estimator.py:482] Starting outfeed thread controller.\n",
      "I0325 19:27:10.873584 139948228130688 util.py:51] Initialized dataset iterators in 0 seconds\n",
      "I0325 19:27:10.905409 139948228130688 tpu_estimator.py:536] Enqueue next (1) batch(es) of data to infeed.\n",
      "I0325 19:27:10.906111 139948228130688 tpu_estimator.py:540] Dequeue next (1) batch(es) of data from outfeed.\n",
      "I0325 19:27:24.465620 139948228130688 evaluation.py:169] Evaluation [1/1]\n",
      "I0325 19:27:24.466056 139948228130688 tpu_estimator.py:545] Stop infeed thread controller\n",
      "I0325 19:27:24.466192 139948228130688 tpu_estimator.py:392] Shutting down InfeedController thread.\n",
      "I0325 19:27:24.466418 139947240945408 tpu_estimator.py:387] InfeedController received shutdown signal, stopping.\n",
      "I0325 19:27:24.466581 139947240945408 tpu_estimator.py:479] Infeed thread finished, shutting down.\n",
      "I0325 19:27:24.466761 139948228130688 error_handling.py:93] infeed marked as finished\n",
      "I0325 19:27:24.466903 139948228130688 tpu_estimator.py:549] Stop output thread controller\n",
      "I0325 19:27:24.466980 139948228130688 tpu_estimator.py:392] Shutting down OutfeedController thread.\n",
      "I0325 19:27:24.467149 139947232552704 tpu_estimator.py:387] OutfeedController received shutdown signal, stopping.\n",
      "I0325 19:27:24.467259 139947232552704 tpu_estimator.py:488] Outfeed thread finished, shutting down.\n",
      "I0325 19:27:24.467436 139948228130688 error_handling.py:93] outfeed marked as finished\n",
      "I0325 19:27:24.467564 139948228130688 tpu_estimator.py:553] Shutdown TPU system.\n",
      "I0325 19:27:24.677493 139948228130688 evaluation.py:277] Finished evaluation at 2019-03-25-19:27:24\n",
      "I0325 19:27:24.678320 139948228130688 estimator.py:1979] Saving dict for global step 112645: global_step = 112645, loss = 0.7371295, top_1_accuracy = 0.8138889, top_5_accuracy = 1.0\n",
      "I0325 19:27:26.912717 139948228130688 estimator.py:2039] Saving 'checkpoint_path' summary for global step 112645: gs://resnet-tpu-colab/resnet-tpu-model/model.ckpt-112645\n",
      "I0325 19:27:27.430788 139948228130688 error_handling.py:93] evaluation_loop marked as finished\n",
      "I0325 19:27:27.431220 139948228130688 resnet_main.py:654] Eval results test {'loss': 0.7371295, 'top_1_accuracy': 0.8138889, 'global_step': 112645, 'top_5_accuracy': 1.0}\n",
      "I0325 19:27:27.620908 139948228130688 estimator.py:1111] Calling model_fn.\n",
      "I0325 19:27:31.521449 139948228130688 estimator.py:1113] Done calling model_fn.\n",
      "I0325 19:27:31.527026 139948228130688 tpu_estimator.py:447] TPU job name worker\n",
      "I0325 19:27:32.202512 139948228130688 monitored_session.py:222] Graph was finalized.\n",
      "I0325 19:27:32.303150 139948228130688 saver.py:1270] Restoring parameters from gs://resnet-tpu-colab/resnet-tpu-model/model.ckpt-112645\n",
      "I0325 19:27:33.042157 139948228130688 session_manager.py:491] Running local_init_op.\n",
      "I0325 19:27:33.067248 139948228130688 session_manager.py:493] Done running local_init_op.\n",
      "I0325 19:27:33.153647 139948228130688 tpu_estimator.py:504] Init TPU system\n",
      "I0325 19:27:46.971295 139948228130688 tpu_estimator.py:510] Initialized TPU in 13 seconds\n",
      "I0325 19:27:46.972457 139947207378688 tpu_estimator.py:463] Starting infeed thread controller.\n",
      "I0325 19:27:46.973330 139947198985984 tpu_estimator.py:482] Starting outfeed thread controller.\n",
      "I0325 19:27:47.403768 139948228130688 util.py:51] Initialized dataset iterators in 0 seconds\n",
      "I0325 19:27:47.437489 139948228130688 tpu_estimator.py:536] Enqueue next (1) batch(es) of data to infeed.\n",
      "I0325 19:27:47.437855 139948228130688 tpu_estimator.py:540] Dequeue next (1) batch(es) of data from outfeed.\n",
      "result: {'probabilities': array([0.12000673, 0.07680425, 0.31834438, 0.16148666, 0.32335797],\n",
      "      dtype=float32), 'classes': 4}\n",
      "result: {'probabilities': array([0.16653599, 0.13097091, 0.12018569, 0.2883103 , 0.2939972 ],\n",
      "      dtype=float32), 'classes': 4}\n",
      "result: {'probabilities': array([0.18185648, 0.05149592, 0.30455285, 0.11833639, 0.34375834],\n",
      "      dtype=float32), 'classes': 4}\n",
      "result: {'probabilities': array([0.13626188, 0.6772863 , 0.05691336, 0.07350763, 0.05603088],\n",
      "      dtype=float32), 'classes': 1}\n",
      "result: {'probabilities': array([0.04325185, 0.83872604, 0.0407903 , 0.05268357, 0.02454811],\n",
      "      dtype=float32), 'classes': 1}\n",
      "result: {'probabilities': array([0.11813416, 0.02880906, 0.25378054, 0.04712846, 0.5521478 ],\n",
      "      dtype=float32), 'classes': 4}\n",
      "result: {'probabilities': array([0.10160933, 0.09296931, 0.30483457, 0.12709531, 0.37349153],\n",
      "      dtype=float32), 'classes': 4}\n",
      "result: {'probabilities': array([0.1859333 , 0.14466345, 0.1185911 , 0.45750138, 0.09331073],\n",
      "      dtype=float32), 'classes': 3}\n",
      "result: {'probabilities': array([0.09467335, 0.05264223, 0.5703979 , 0.07570169, 0.20658484],\n",
      "      dtype=float32), 'classes': 2}\n",
      "result: {'probabilities': array([0.06405562, 0.02071473, 0.1471986 , 0.03208362, 0.7359474 ],\n",
      "      dtype=float32), 'classes': 4}\n",
      "result: {'probabilities': array([0.27288982, 0.07787964, 0.3436211 , 0.07849051, 0.2271189 ],\n",
      "      dtype=float32), 'classes': 2}\n",
      "result: {'probabilities': array([0.14545909, 0.601442  , 0.0704427 , 0.08447371, 0.09818251],\n",
      "      dtype=float32), 'classes': 1}\n",
      "result: {'probabilities': array([0.11256574, 0.06388789, 0.04936881, 0.72264117, 0.0515364 ],\n",
      "      dtype=float32), 'classes': 3}\n",
      "result: {'probabilities': array([0.20513406, 0.18432982, 0.10980041, 0.367122  , 0.13361377],\n",
      "      dtype=float32), 'classes': 3}\n",
      "result: {'probabilities': array([0.15108202, 0.07626604, 0.07012252, 0.0726316 , 0.62989783],\n",
      "      dtype=float32), 'classes': 4}\n",
      "result: {'probabilities': array([0.15691333, 0.41240385, 0.10447585, 0.16666672, 0.1595402 ],\n",
      "      dtype=float32), 'classes': 1}\n",
      "result: {'probabilities': array([0.14233577, 0.06434397, 0.37317857, 0.0695724 , 0.35056922],\n",
      "      dtype=float32), 'classes': 2}\n",
      "result: {'probabilities': array([0.1709368 , 0.09682789, 0.07600096, 0.5285833 , 0.12765107],\n",
      "      dtype=float32), 'classes': 3}\n",
      "result: {'probabilities': array([0.08956978, 0.12230757, 0.31262943, 0.18522665, 0.29026657],\n",
      "      dtype=float32), 'classes': 2}\n",
      "result: {'probabilities': array([0.06935804, 0.07602624, 0.21785147, 0.07169973, 0.56506455],\n",
      "      dtype=float32), 'classes': 4}\n",
      "result: {'probabilities': array([0.10518843, 0.7533293 , 0.05719003, 0.0455957 , 0.03869659],\n",
      "      dtype=float32), 'classes': 1}\n",
      "result: {'probabilities': array([0.09776684, 0.0900669 , 0.10407253, 0.57035494, 0.13773878],\n",
      "      dtype=float32), 'classes': 3}\n",
      "result: {'probabilities': array([0.07901641, 0.07027882, 0.24362646, 0.13194093, 0.47513735],\n",
      "      dtype=float32), 'classes': 4}\n",
      "result: {'probabilities': array([0.07060566, 0.81100434, 0.03386865, 0.04804325, 0.03647812],\n",
      "      dtype=float32), 'classes': 1}\n",
      "result: {'probabilities': array([0.09997889, 0.18497097, 0.06159534, 0.6076809 , 0.04577389],\n",
      "      dtype=float32), 'classes': 3}\n",
      "result: {'probabilities': array([0.12542735, 0.1456406 , 0.16279183, 0.291913  , 0.2742272 ],\n",
      "      dtype=float32), 'classes': 3}\n",
      "result: {'probabilities': array([0.03794727, 0.8338384 , 0.04151429, 0.05268443, 0.03401559],\n",
      "      dtype=float32), 'classes': 1}\n",
      "result: {'probabilities': array([0.09413613, 0.02747547, 0.16699801, 0.19296564, 0.51842475],\n",
      "      dtype=float32), 'classes': 4}\n",
      "result: {'probabilities': array([0.1556762 , 0.12746303, 0.36810723, 0.16563545, 0.18311809],\n",
      "      dtype=float32), 'classes': 2}\n",
      "result: {'probabilities': array([0.19491051, 0.09667633, 0.15002786, 0.46756628, 0.09081891],\n",
      "      dtype=float32), 'classes': 3}\n",
      "result: {'probabilities': array([0.16504487, 0.16797198, 0.13100836, 0.46287978, 0.07309509],\n",
      "      dtype=float32), 'classes': 3}\n",
      "result: {'probabilities': array([0.07170987, 0.8095331 , 0.03876021, 0.03175894, 0.04823782],\n",
      "      dtype=float32), 'classes': 1}\n",
      "result: {'probabilities': array([0.1200044 , 0.16164191, 0.13250898, 0.44717944, 0.13866521],\n",
      "      dtype=float32), 'classes': 3}\n",
      "result: {'probabilities': array([0.04759504, 0.02196151, 0.46227822, 0.06965748, 0.3985077 ],\n",
      "      dtype=float32), 'classes': 2}\n",
      "result: {'probabilities': array([0.5753425 , 0.08944625, 0.08386287, 0.155761  , 0.09558736],\n",
      "      dtype=float32), 'classes': 0}\n",
      "result: {'probabilities': array([0.24309471, 0.1322976 , 0.13088384, 0.05267559, 0.44104823],\n",
      "      dtype=float32), 'classes': 4}\n",
      "result: {'probabilities': array([0.11992517, 0.07060365, 0.5116038 , 0.03245122, 0.26541623],\n",
      "      dtype=float32), 'classes': 2}\n",
      "result: {'probabilities': array([0.50032157, 0.09813473, 0.11120147, 0.19027176, 0.10007052],\n",
      "      dtype=float32), 'classes': 0}\n",
      "result: {'probabilities': array([0.16906358, 0.5809424 , 0.05237364, 0.13493764, 0.06268276],\n",
      "      dtype=float32), 'classes': 1}\n",
      "result: {'probabilities': array([0.34099534, 0.26869693, 0.05632194, 0.23436214, 0.09962356],\n",
      "      dtype=float32), 'classes': 0}\n",
      "result: {'probabilities': array([0.15655638, 0.16451083, 0.14009644, 0.25207752, 0.28675872],\n",
      "      dtype=float32), 'classes': 4}\n",
      "result: {'probabilities': array([0.503912  , 0.10217604, 0.06846385, 0.18393642, 0.14151178],\n",
      "      dtype=float32), 'classes': 0}\n",
      "result: {'probabilities': array([0.11637225, 0.15836439, 0.06348716, 0.60000145, 0.06177469],\n",
      "      dtype=float32), 'classes': 3}\n",
      "result: {'probabilities': array([0.59894824, 0.08445271, 0.07614774, 0.15747014, 0.08298112],\n",
      "      dtype=float32), 'classes': 0}\n",
      "result: {'probabilities': array([0.5241896 , 0.16526558, 0.0927057 , 0.11248147, 0.10535762],\n",
      "      dtype=float32), 'classes': 0}\n",
      "result: {'probabilities': array([0.12238088, 0.1625244 , 0.12285999, 0.43113256, 0.16110222],\n",
      "      dtype=float32), 'classes': 3}\n",
      "result: {'probabilities': array([0.14334314, 0.14341316, 0.1127313 , 0.4279446 , 0.17256768],\n",
      "      dtype=float32), 'classes': 3}\n",
      "result: {'probabilities': array([0.08377621, 0.7588183 , 0.05083754, 0.05245144, 0.05411644],\n",
      "      dtype=float32), 'classes': 1}\n",
      "result: {'probabilities': array([0.09754895, 0.10768724, 0.2053549 , 0.53057367, 0.05883514],\n",
      "      dtype=float32), 'classes': 3}\n",
      "result: {'probabilities': array([0.13481824, 0.12179788, 0.18337643, 0.12096806, 0.43903935],\n",
      "      dtype=float32), 'classes': 4}\n",
      "result: {'probabilities': array([0.11217874, 0.57528293, 0.09245626, 0.15897223, 0.06110983],\n",
      "      dtype=float32), 'classes': 1}\n",
      "result: {'probabilities': array([0.08921773, 0.08442861, 0.17155263, 0.55377793, 0.10102304],\n",
      "      dtype=float32), 'classes': 3}\n",
      "result: {'probabilities': array([0.2955448 , 0.14619824, 0.08401609, 0.3073182 , 0.16692263],\n",
      "      dtype=float32), 'classes': 3}\n",
      "result: {'probabilities': array([0.11866298, 0.6692835 , 0.06600946, 0.05825331, 0.08779076],\n",
      "      dtype=float32), 'classes': 1}\n",
      "result: {'probabilities': array([0.25701007, 0.29466373, 0.15206929, 0.17390177, 0.12235516],\n",
      "      dtype=float32), 'classes': 1}\n",
      "result: {'probabilities': array([0.09883642, 0.24690259, 0.05509128, 0.51458937, 0.08458034],\n",
      "      dtype=float32), 'classes': 3}\n",
      "result: {'probabilities': array([0.26046437, 0.21300022, 0.20524028, 0.12669228, 0.19460282],\n",
      "      dtype=float32), 'classes': 0}\n",
      "result: {'probabilities': array([0.09026951, 0.687509  , 0.06173925, 0.06007386, 0.10040837],\n",
      "      dtype=float32), 'classes': 1}\n",
      "result: {'probabilities': array([0.09506354, 0.10835449, 0.14410795, 0.30270192, 0.3497721 ],\n",
      "      dtype=float32), 'classes': 4}\n",
      "result: {'probabilities': array([0.10619255, 0.69993985, 0.13702066, 0.03652031, 0.02032663],\n",
      "      dtype=float32), 'classes': 1}\n",
      "result: {'probabilities': array([0.10226252, 0.08969682, 0.08738409, 0.673378  , 0.0472786 ],\n",
      "      dtype=float32), 'classes': 3}\n",
      "result: {'probabilities': array([0.05732304, 0.04508128, 0.18110776, 0.5666373 , 0.1498506 ],\n",
      "      dtype=float32), 'classes': 3}\n",
      "result: {'probabilities': array([0.12921946, 0.506353  , 0.10428793, 0.15503371, 0.10510585],\n",
      "      dtype=float32), 'classes': 1}\n",
      "result: {'probabilities': array([0.15450114, 0.06359339, 0.4114531 , 0.10891753, 0.26153475],\n",
      "      dtype=float32), 'classes': 2}\n",
      "result: {'probabilities': array([0.1439843 , 0.5028002 , 0.08944556, 0.22051693, 0.043253  ],\n",
      "      dtype=float32), 'classes': 1}\n",
      "result: {'probabilities': array([0.4827814 , 0.17519398, 0.08115488, 0.16782516, 0.09304453],\n",
      "      dtype=float32), 'classes': 0}\n",
      "result: {'probabilities': array([0.15815164, 0.2634994 , 0.12374127, 0.20803775, 0.24656993],\n",
      "      dtype=float32), 'classes': 1}\n",
      "result: {'probabilities': array([0.33198074, 0.13624452, 0.1717254 , 0.17545442, 0.18459491],\n",
      "      dtype=float32), 'classes': 0}\n",
      "result: {'probabilities': array([0.3538623 , 0.22536778, 0.13722762, 0.18830179, 0.09524056],\n",
      "      dtype=float32), 'classes': 0}\n",
      "result: {'probabilities': array([0.07933355, 0.16811323, 0.05500627, 0.6623085 , 0.03523837],\n",
      "      dtype=float32), 'classes': 3}\n",
      "result: {'probabilities': array([0.07021286, 0.03610722, 0.3618323 , 0.11862239, 0.41322532],\n",
      "      dtype=float32), 'classes': 4}\n",
      "result: {'probabilities': array([0.10565085, 0.10282601, 0.09669087, 0.6492479 , 0.0455844 ],\n",
      "      dtype=float32), 'classes': 3}\n",
      "result: {'probabilities': array([0.13539855, 0.20812921, 0.34583792, 0.08951506, 0.2211193 ],\n",
      "      dtype=float32), 'classes': 2}\n",
      "result: {'probabilities': array([0.0797905 , 0.02026797, 0.5696258 , 0.08912122, 0.24119453],\n",
      "      dtype=float32), 'classes': 2}\n",
      "result: {'probabilities': array([0.11196638, 0.730111  , 0.03441554, 0.08231708, 0.04119002],\n",
      "      dtype=float32), 'classes': 1}\n",
      "result: {'probabilities': array([0.4385391 , 0.08686068, 0.12884295, 0.14181769, 0.20393963],\n",
      "      dtype=float32), 'classes': 0}\n",
      "result: {'probabilities': array([0.06958548, 0.6765259 , 0.0809572 , 0.07480031, 0.09813118],\n",
      "      dtype=float32), 'classes': 1}\n",
      "result: {'probabilities': array([0.20311351, 0.26182216, 0.07649294, 0.33227074, 0.12630053],\n",
      "      dtype=float32), 'classes': 3}\n",
      "result: {'probabilities': array([0.03108336, 0.04522597, 0.06561071, 0.03742051, 0.8206595 ],\n",
      "      dtype=float32), 'classes': 4}\n",
      "result: {'probabilities': array([0.07803608, 0.079265  , 0.11544287, 0.6426314 , 0.08462463],\n",
      "      dtype=float32), 'classes': 3}\n",
      "result: {'probabilities': array([0.10227425, 0.04812258, 0.44425988, 0.16568363, 0.2396597 ],\n",
      "      dtype=float32), 'classes': 2}\n",
      "result: {'probabilities': array([0.0991878 , 0.12754668, 0.11990622, 0.1938219 , 0.45953736],\n",
      "      dtype=float32), 'classes': 4}\n",
      "result: {'probabilities': array([0.49297664, 0.07560057, 0.11963487, 0.2145257 , 0.09726231],\n",
      "      dtype=float32), 'classes': 0}\n",
      "result: {'probabilities': array([0.06875886, 0.02697894, 0.36380526, 0.0547123 , 0.4857446 ],\n",
      "      dtype=float32), 'classes': 4}\n",
      "result: {'probabilities': array([0.1536305 , 0.071271  , 0.11433612, 0.46474433, 0.19601808],\n",
      "      dtype=float32), 'classes': 3}\n",
      "result: {'probabilities': array([0.02723059, 0.00978553, 0.0382516 , 0.02999469, 0.8947376 ],\n",
      "      dtype=float32), 'classes': 4}\n",
      "result: {'probabilities': array([0.1312821 , 0.10441185, 0.09562675, 0.5535283 , 0.11515097],\n",
      "      dtype=float32), 'classes': 3}\n",
      "result: {'probabilities': array([0.71936035, 0.05784999, 0.03887656, 0.14220443, 0.04170854],\n",
      "      dtype=float32), 'classes': 0}\n",
      "result: {'probabilities': array([0.10838095, 0.1483566 , 0.22765708, 0.08358711, 0.4320182 ],\n",
      "      dtype=float32), 'classes': 4}\n",
      "result: {'probabilities': array([0.09116384, 0.07044595, 0.51046103, 0.12006697, 0.20786229],\n",
      "      dtype=float32), 'classes': 2}\n",
      "result: {'probabilities': array([0.5833832 , 0.0721682 , 0.10932031, 0.17144011, 0.06368823],\n",
      "      dtype=float32), 'classes': 0}\n",
      "result: {'probabilities': array([0.1756432 , 0.69197404, 0.04581916, 0.05419949, 0.03236401],\n",
      "      dtype=float32), 'classes': 1}\n",
      "result: {'probabilities': array([0.3326407 , 0.3326407 , 0.09255166, 0.17022853, 0.07193846],\n",
      "      dtype=float32), 'classes': 1}\n",
      "result: {'probabilities': array([0.07414957, 0.7734119 , 0.04572693, 0.05668614, 0.05002535],\n",
      "      dtype=float32), 'classes': 1}\n",
      "result: {'probabilities': array([0.16247202, 0.1161991 , 0.38100144, 0.09192075, 0.2484067 ],\n",
      "      dtype=float32), 'classes': 2}\n",
      "result: {'probabilities': array([0.14494789, 0.09617957, 0.08504425, 0.5744015 , 0.09942676],\n",
      "      dtype=float32), 'classes': 3}\n",
      "result: {'probabilities': array([0.03826381, 0.02008503, 0.13512807, 0.10401181, 0.70251125],\n",
      "      dtype=float32), 'classes': 4}\n",
      "result: {'probabilities': array([0.130578  , 0.05464601, 0.17030579, 0.07057919, 0.57389104],\n",
      "      dtype=float32), 'classes': 4}\n",
      "result: {'probabilities': array([0.08479158, 0.05517489, 0.44951355, 0.10277897, 0.30774096],\n",
      "      dtype=float32), 'classes': 2}\n",
      "result: {'probabilities': array([0.05071009, 0.03695565, 0.57134926, 0.15109673, 0.18988812],\n",
      "      dtype=float32), 'classes': 2}\n",
      "result: {'probabilities': array([0.09565887, 0.38580066, 0.12403377, 0.2969611 , 0.0975456 ],\n",
      "      dtype=float32), 'classes': 1}\n",
      "result: {'probabilities': array([0.03774992, 0.8795601 , 0.02794403, 0.02849514, 0.02625093],\n",
      "      dtype=float32), 'classes': 1}\n",
      "result: {'probabilities': array([0.12778002, 0.45390463, 0.15980296, 0.14102578, 0.11748654],\n",
      "      dtype=float32), 'classes': 1}\n",
      "result: {'probabilities': array([0.54030526, 0.1841888 , 0.06303547, 0.12714876, 0.08532164],\n",
      "      dtype=float32), 'classes': 0}\n",
      "result: {'probabilities': array([0.24605569, 0.13535458, 0.25287607, 0.10582709, 0.2598865 ],\n",
      "      dtype=float32), 'classes': 4}\n",
      "result: {'probabilities': array([0.14384362, 0.5962161 , 0.07232908, 0.09582052, 0.09179075],\n",
      "      dtype=float32), 'classes': 1}\n",
      "result: {'probabilities': array([0.09754787, 0.04349845, 0.437607  , 0.10118644, 0.3201602 ],\n",
      "      dtype=float32), 'classes': 2}\n",
      "result: {'probabilities': array([0.15252   , 0.10248428, 0.29024538, 0.32633194, 0.12841852],\n",
      "      dtype=float32), 'classes': 3}\n",
      "result: {'probabilities': array([0.38583514, 0.2714689 , 0.09604187, 0.12782608, 0.1188281 ],\n",
      "      dtype=float32), 'classes': 0}\n",
      "result: {'probabilities': array([0.15719324, 0.12052423, 0.3535496 , 0.1327583 , 0.23597465],\n",
      "      dtype=float32), 'classes': 2}\n",
      "result: {'probabilities': array([0.04260999, 0.03057116, 0.40269646, 0.0713582 , 0.4527642 ],\n",
      "      dtype=float32), 'classes': 4}\n",
      "result: {'probabilities': array([0.0854112 , 0.10557193, 0.16303447, 0.5090952 , 0.1368871 ],\n",
      "      dtype=float32), 'classes': 3}\n",
      "result: {'probabilities': array([0.3628808 , 0.32401562, 0.07878555, 0.09671864, 0.13759941],\n",
      "      dtype=float32), 'classes': 0}\n",
      "result: {'probabilities': array([0.54838926, 0.10425381, 0.0699928 , 0.19553423, 0.08182992],\n",
      "      dtype=float32), 'classes': 0}\n",
      "result: {'probabilities': array([0.03453716, 0.03386914, 0.20187786, 0.05736071, 0.67235506],\n",
      "      dtype=float32), 'classes': 4}\n",
      "result: {'probabilities': array([0.37072483, 0.11849051, 0.12130039, 0.22750695, 0.16197737],\n",
      "      dtype=float32), 'classes': 0}\n",
      "result: {'probabilities': array([0.18360725, 0.14956315, 0.08723954, 0.44913846, 0.1304515 ],\n",
      "      dtype=float32), 'classes': 3}\n",
      "result: {'probabilities': array([0.34160507, 0.12715064, 0.12420556, 0.23941204, 0.16762671],\n",
      "      dtype=float32), 'classes': 0}\n",
      "result: {'probabilities': array([0.11060109, 0.14926708, 0.11568294, 0.49664935, 0.12779953],\n",
      "      dtype=float32), 'classes': 3}\n",
      "result: {'probabilities': array([0.03768933, 0.8679173 , 0.02800835, 0.03934418, 0.02704076],\n",
      "      dtype=float32), 'classes': 1}\n",
      "result: {'probabilities': array([0.4348355 , 0.11657783, 0.12753674, 0.19561313, 0.12543684],\n",
      "      dtype=float32), 'classes': 0}\n",
      "result: {'probabilities': array([0.17083071, 0.25197858, 0.12571676, 0.31791013, 0.13356377],\n",
      "      dtype=float32), 'classes': 3}\n",
      "result: {'probabilities': array([0.09811048, 0.06032627, 0.43884343, 0.14067411, 0.2620457 ],\n",
      "      dtype=float32), 'classes': 2}\n",
      "result: {'probabilities': array([0.04678083, 0.02533509, 0.27237803, 0.03202654, 0.6234795 ],\n",
      "      dtype=float32), 'classes': 4}\n",
      "result: {'probabilities': array([0.113508  , 0.18325518, 0.11462188, 0.5099516 , 0.0786633 ],\n",
      "      dtype=float32), 'classes': 3}\n",
      "result: {'probabilities': array([0.14132689, 0.1273671 , 0.10149645, 0.5595054 , 0.07030424],\n",
      "      dtype=float32), 'classes': 3}\n",
      "result: {'probabilities': array([0.0779892 , 0.02222452, 0.16943161, 0.07062934, 0.6597253 ],\n",
      "      dtype=float32), 'classes': 4}\n",
      "result: {'probabilities': array([0.12260144, 0.34654158, 0.07946718, 0.3204983 , 0.13089153],\n",
      "      dtype=float32), 'classes': 1}\n",
      "result: {'probabilities': array([0.12558499, 0.6625327 , 0.06637283, 0.07247049, 0.07303891],\n",
      "      dtype=float32), 'classes': 1}\n",
      "result: {'probabilities': array([0.10944561, 0.6587556 , 0.08261389, 0.09002776, 0.05915716],\n",
      "      dtype=float32), 'classes': 1}\n",
      "result: {'probabilities': array([0.15381472, 0.09719935, 0.33925924, 0.12901993, 0.2807068 ],\n",
      "      dtype=float32), 'classes': 2}\n",
      "result: {'probabilities': array([0.10768811, 0.05299794, 0.5742522 , 0.0626914 , 0.20237035],\n",
      "      dtype=float32), 'classes': 2}\n",
      "result: {'probabilities': array([0.04728144, 0.01419648, 0.15995167, 0.05042935, 0.72814107],\n",
      "      dtype=float32), 'classes': 4}\n",
      "result: {'probabilities': array([0.18964112, 0.07455527, 0.1072132 , 0.09045912, 0.53813136],\n",
      "      dtype=float32), 'classes': 4}\n",
      "result: {'probabilities': array([0.03034928, 0.01544048, 0.16993748, 0.04609678, 0.73817605],\n",
      "      dtype=float32), 'classes': 4}\n",
      "result: {'probabilities': array([0.07329989, 0.62951493, 0.06136391, 0.12049744, 0.11532391],\n",
      "      dtype=float32), 'classes': 1}\n",
      "result: {'probabilities': array([0.22907792, 0.4263062 , 0.10145446, 0.09419736, 0.14896402],\n",
      "      dtype=float32), 'classes': 1}\n",
      "result: {'probabilities': array([0.04549128, 0.01901922, 0.51808465, 0.03539408, 0.38201082],\n",
      "      dtype=float32), 'classes': 2}\n",
      "result: {'probabilities': array([0.16409533, 0.2668731 , 0.17527567, 0.19596468, 0.19779116],\n",
      "      dtype=float32), 'classes': 1}\n",
      "result: {'probabilities': array([0.03892832, 0.02315461, 0.09767499, 0.04292176, 0.79732025],\n",
      "      dtype=float32), 'classes': 4}\n",
      "result: {'probabilities': array([0.20819111, 0.24820107, 0.16309194, 0.24723318, 0.13328263],\n",
      "      dtype=float32), 'classes': 1}\n",
      "result: {'probabilities': array([0.16931391, 0.1793553 , 0.17147705, 0.33247292, 0.14738086],\n",
      "      dtype=float32), 'classes': 3}\n",
      "result: {'probabilities': array([0.09220628, 0.27797934, 0.29018408, 0.21396784, 0.12566246],\n",
      "      dtype=float32), 'classes': 2}\n",
      "result: {'probabilities': array([0.1031209 , 0.25810915, 0.08764591, 0.47659442, 0.07452954],\n",
      "      dtype=float32), 'classes': 3}\n",
      "result: {'probabilities': array([0.02748697, 0.00534162, 0.05008949, 0.01171284, 0.90536904],\n",
      "      dtype=float32), 'classes': 4}\n",
      "result: {'probabilities': array([0.21640217, 0.42785314, 0.11314832, 0.1103119 , 0.13228436],\n",
      "      dtype=float32), 'classes': 1}\n",
      "result: {'probabilities': array([0.15290864, 0.0552717 , 0.09856537, 0.6012321 , 0.09202223],\n",
      "      dtype=float32), 'classes': 3}\n",
      "result: {'probabilities': array([0.15793492, 0.6173669 , 0.06209023, 0.08503319, 0.07757478],\n",
      "      dtype=float32), 'classes': 1}\n",
      "result: {'probabilities': array([0.43794626, 0.07463159, 0.11421154, 0.08374687, 0.2894638 ],\n",
      "      dtype=float32), 'classes': 0}\n",
      "result: {'probabilities': array([0.03656741, 0.012539  , 0.25382724, 0.05393759, 0.6431287 ],\n",
      "      dtype=float32), 'classes': 4}\n",
      "result: {'probabilities': array([0.06738393, 0.05007553, 0.41116846, 0.13839811, 0.332974  ],\n",
      "      dtype=float32), 'classes': 2}\n",
      "result: {'probabilities': array([0.18990964, 0.16629064, 0.11541136, 0.32304746, 0.20534088],\n",
      "      dtype=float32), 'classes': 3}\n",
      "result: {'probabilities': array([0.0506762 , 0.02940081, 0.06664497, 0.05552123, 0.7977568 ],\n",
      "      dtype=float32), 'classes': 4}\n",
      "result: {'probabilities': array([0.10017882, 0.07726095, 0.01483222, 0.7910517 , 0.01667629],\n",
      "      dtype=float32), 'classes': 3}\n",
      "result: {'probabilities': array([0.10367348, 0.09796467, 0.04840137, 0.70571816, 0.04424231],\n",
      "      dtype=float32), 'classes': 3}\n",
      "result: {'probabilities': array([0.07743869, 0.07743869, 0.47808972, 0.11411192, 0.25292102],\n",
      "      dtype=float32), 'classes': 2}\n",
      "result: {'probabilities': array([0.17116384, 0.43836588, 0.06696366, 0.1964324 , 0.12707421],\n",
      "      dtype=float32), 'classes': 1}\n",
      "result: {'probabilities': array([0.22499858, 0.22543857, 0.09342758, 0.3666374 , 0.08949789],\n",
      "      dtype=float32), 'classes': 3}\n",
      "result: {'probabilities': array([0.10537498, 0.04446907, 0.5502756 , 0.08099624, 0.21888407],\n",
      "      dtype=float32), 'classes': 2}\n",
      "result: {'probabilities': array([0.15034272, 0.21031564, 0.12291623, 0.39600402, 0.12042134],\n",
      "      dtype=float32), 'classes': 3}\n",
      "result: {'probabilities': array([0.05442155, 0.03040874, 0.2796329 , 0.1212122 , 0.5143246 ],\n",
      "      dtype=float32), 'classes': 4}\n",
      "result: {'probabilities': array([0.02672739, 0.0391931 , 0.17024639, 0.25557014, 0.50826305],\n",
      "      dtype=float32), 'classes': 4}\n",
      "result: {'probabilities': array([0.2547767 , 0.07831196, 0.16611074, 0.23379658, 0.267004  ],\n",
      "      dtype=float32), 'classes': 4}\n",
      "result: {'probabilities': array([0.09589941, 0.12816723, 0.2546422 , 0.11595946, 0.4053317 ],\n",
      "      dtype=float32), 'classes': 4}\n",
      "result: {'probabilities': array([0.393406  , 0.13979451, 0.10629801, 0.15278623, 0.20771524],\n",
      "      dtype=float32), 'classes': 0}\n",
      "result: {'probabilities': array([0.10802307, 0.19791116, 0.19370432, 0.3231286 , 0.1772328 ],\n",
      "      dtype=float32), 'classes': 3}\n",
      "result: {'probabilities': array([0.06591721, 0.82167923, 0.02672411, 0.04754801, 0.03813134],\n",
      "      dtype=float32), 'classes': 1}\n",
      "result: {'probabilities': array([0.39228514, 0.14683674, 0.1076645 , 0.13230018, 0.22091353],\n",
      "      dtype=float32), 'classes': 0}\n",
      "result: {'probabilities': array([0.16662237, 0.3418875 , 0.05581149, 0.3300764 , 0.10560219],\n",
      "      dtype=float32), 'classes': 1}\n",
      "result: {'probabilities': array([0.13413714, 0.1905541 , 0.18577647, 0.3566987 , 0.13283356],\n",
      "      dtype=float32), 'classes': 3}\n",
      "result: {'probabilities': array([0.11755928, 0.05214124, 0.2965552 , 0.1870351 , 0.34670907],\n",
      "      dtype=float32), 'classes': 4}\n",
      "result: {'probabilities': array([0.08084614, 0.44393188, 0.06345675, 0.3364085 , 0.07535672],\n",
      "      dtype=float32), 'classes': 1}\n",
      "result: {'probabilities': array([0.16338983, 0.15566005, 0.28644302, 0.15888563, 0.23562142],\n",
      "      dtype=float32), 'classes': 2}\n",
      "result: {'probabilities': array([0.3047633 , 0.13553521, 0.24392924, 0.06800178, 0.24777049],\n",
      "      dtype=float32), 'classes': 0}\n",
      "result: {'probabilities': array([0.20611891, 0.14166331, 0.0654946 , 0.49833193, 0.08839127],\n",
      "      dtype=float32), 'classes': 3}\n",
      "result: {'probabilities': array([0.1919525 , 0.12637843, 0.28619218, 0.23587543, 0.1596015 ],\n",
      "      dtype=float32), 'classes': 2}\n",
      "result: {'probabilities': array([0.10762277, 0.3153952 , 0.14468063, 0.36301807, 0.06928318],\n",
      "      dtype=float32), 'classes': 3}\n",
      "result: {'probabilities': array([0.2131617 , 0.06450477, 0.44600695, 0.08186091, 0.19446567],\n",
      "      dtype=float32), 'classes': 2}\n",
      "result: {'probabilities': array([0.05397939, 0.02569797, 0.22113197, 0.08142915, 0.61776155],\n",
      "      dtype=float32), 'classes': 4}\n",
      "result: {'probabilities': array([0.1536784 , 0.21398792, 0.09758876, 0.4841166 , 0.05062836],\n",
      "      dtype=float32), 'classes': 3}\n",
      "result: {'probabilities': array([0.09743504, 0.11447092, 0.17100404, 0.45053595, 0.16655408],\n",
      "      dtype=float32), 'classes': 3}\n",
      "result: {'probabilities': array([0.14018765, 0.4222448 , 0.13029559, 0.21231754, 0.09495436],\n",
      "      dtype=float32), 'classes': 1}\n",
      "result: {'probabilities': array([0.18841071, 0.29396182, 0.13353816, 0.2579049 , 0.12618439],\n",
      "      dtype=float32), 'classes': 1}\n",
      "result: {'probabilities': array([0.0926334 , 0.11310956, 0.21791855, 0.3884814 , 0.18785705],\n",
      "      dtype=float32), 'classes': 3}\n",
      "result: {'probabilities': array([0.04578484, 0.8471891 , 0.02422142, 0.05218595, 0.03061867],\n",
      "      dtype=float32), 'classes': 1}\n",
      "result: {'probabilities': array([0.12990537, 0.13916458, 0.20169346, 0.14046179, 0.38877475],\n",
      "      dtype=float32), 'classes': 4}\n",
      "result: {'probabilities': array([0.01774796, 0.9502624 , 0.01409473, 0.01023166, 0.00766317],\n",
      "      dtype=float32), 'classes': 1}\n",
      "result: {'probabilities': array([0.19548494, 0.12646148, 0.24447618, 0.24447618, 0.18910116],\n",
      "      dtype=float32), 'classes': 3}\n",
      "result: {'probabilities': array([0.05380043, 0.03920779, 0.13007295, 0.03712121, 0.73979765],\n",
      "      dtype=float32), 'classes': 4}\n",
      "result: {'probabilities': array([0.14764628, 0.06756438, 0.34716558, 0.13600133, 0.30162236],\n",
      "      dtype=float32), 'classes': 2}\n",
      "result: {'probabilities': array([0.13898256, 0.07750683, 0.32251447, 0.18941125, 0.27158487],\n",
      "      dtype=float32), 'classes': 2}\n",
      "result: {'probabilities': array([0.09279414, 0.06548048, 0.58021194, 0.06943169, 0.19208176],\n",
      "      dtype=float32), 'classes': 2}\n",
      "result: {'probabilities': array([0.1788246 , 0.51668924, 0.10788161, 0.09446443, 0.10214005],\n",
      "      dtype=float32), 'classes': 1}\n",
      "result: {'probabilities': array([0.05190212, 0.8279013 , 0.04252717, 0.04643407, 0.03123539],\n",
      "      dtype=float32), 'classes': 1}\n",
      "result: {'probabilities': array([0.10001307, 0.06329357, 0.25626665, 0.23151709, 0.34890968],\n",
      "      dtype=float32), 'classes': 4}\n",
      "result: {'probabilities': array([0.50859845, 0.09100883, 0.08238035, 0.19079292, 0.12721936],\n",
      "      dtype=float32), 'classes': 0}\n",
      "result: {'probabilities': array([0.13821235, 0.20348091, 0.346133  , 0.11106359, 0.20111015],\n",
      "      dtype=float32), 'classes': 2}\n",
      "result: {'probabilities': array([0.11794844, 0.16307674, 0.2606596 , 0.15178186, 0.30653337],\n",
      "      dtype=float32), 'classes': 4}\n",
      "result: {'probabilities': array([0.13129534, 0.06067173, 0.23716556, 0.08423436, 0.486633  ],\n",
      "      dtype=float32), 'classes': 4}\n",
      "result: {'probabilities': array([0.10291138, 0.09002406, 0.21978667, 0.12016881, 0.46710905],\n",
      "      dtype=float32), 'classes': 4}\n",
      "result: {'probabilities': array([0.11483011, 0.23885885, 0.14576244, 0.1810062 , 0.3195424 ],\n",
      "      dtype=float32), 'classes': 4}\n",
      "result: {'probabilities': array([0.31013185, 0.09275555, 0.20498392, 0.20180649, 0.19032216],\n",
      "      dtype=float32), 'classes': 0}\n",
      "result: {'probabilities': array([0.05097473, 0.0353092 , 0.518866  , 0.08982476, 0.30502534],\n",
      "      dtype=float32), 'classes': 2}\n",
      "result: {'probabilities': array([0.12678096, 0.66558397, 0.04878304, 0.08074435, 0.07810763],\n",
      "      dtype=float32), 'classes': 1}\n",
      "result: {'probabilities': array([0.08717716, 0.06453181, 0.5618433 , 0.11442428, 0.17202355],\n",
      "      dtype=float32), 'classes': 2}\n",
      "result: {'probabilities': array([0.4310761 , 0.08422311, 0.10159281, 0.25144416, 0.13166383],\n",
      "      dtype=float32), 'classes': 0}\n",
      "result: {'probabilities': array([0.18811266, 0.26788488, 0.16665874, 0.18701366, 0.19033007],\n",
      "      dtype=float32), 'classes': 1}\n",
      "result: {'probabilities': array([0.21991163, 0.14240247, 0.22778107, 0.15129067, 0.25861412],\n",
      "      dtype=float32), 'classes': 4}\n",
      "result: {'probabilities': array([0.0611514 , 0.04562175, 0.57119495, 0.12845026, 0.1935816 ],\n",
      "      dtype=float32), 'classes': 2}\n",
      "result: {'probabilities': array([0.33287433, 0.06606074, 0.27812663, 0.07844935, 0.24448904],\n",
      "      dtype=float32), 'classes': 0}\n",
      "result: {'probabilities': array([0.09478769, 0.0799752 , 0.14135854, 0.5015265 , 0.18235204],\n",
      "      dtype=float32), 'classes': 3}\n",
      "result: {'probabilities': array([0.6203346 , 0.165985  , 0.05013071, 0.10448124, 0.05906838],\n",
      "      dtype=float32), 'classes': 0}\n",
      "result: {'probabilities': array([0.04101524, 0.01262247, 0.06575072, 0.01620758, 0.864404  ],\n",
      "      dtype=float32), 'classes': 4}\n",
      "result: {'probabilities': array([0.13961636, 0.44261923, 0.13846241, 0.1557894 , 0.12351264],\n",
      "      dtype=float32), 'classes': 1}\n",
      "result: {'probabilities': array([0.12082332, 0.3049395 , 0.26858336, 0.19477966, 0.11087418],\n",
      "      dtype=float32), 'classes': 1}\n",
      "result: {'probabilities': array([0.4562389 , 0.11334508, 0.10061468, 0.1176305 , 0.21217081],\n",
      "      dtype=float32), 'classes': 0}\n",
      "result: {'probabilities': array([0.10478852, 0.09989246, 0.03780395, 0.7245419 , 0.03297328],\n",
      "      dtype=float32), 'classes': 3}\n",
      "result: {'probabilities': array([0.08609065, 0.73576295, 0.07545704, 0.04833955, 0.05434968],\n",
      "      dtype=float32), 'classes': 1}\n",
      "result: {'probabilities': array([0.10859314, 0.10916451, 0.04679104, 0.66643375, 0.06901762],\n",
      "      dtype=float32), 'classes': 3}\n",
      "result: {'probabilities': array([0.32797882, 0.24951294, 0.08341337, 0.19699626, 0.14209862],\n",
      "      dtype=float32), 'classes': 0}\n",
      "result: {'probabilities': array([0.15526994, 0.13094215, 0.1393186 , 0.4268336 , 0.14763568],\n",
      "      dtype=float32), 'classes': 3}\n",
      "result: {'probabilities': array([0.12005655, 0.16092332, 0.13108593, 0.50842685, 0.07950747],\n",
      "      dtype=float32), 'classes': 3}\n",
      "result: {'probabilities': array([0.32458532, 0.12562853, 0.13797574, 0.24168254, 0.17012797],\n",
      "      dtype=float32), 'classes': 0}\n",
      "result: {'probabilities': array([0.5904365 , 0.09601028, 0.06420694, 0.17659026, 0.07275596],\n",
      "      dtype=float32), 'classes': 0}\n",
      "result: {'probabilities': array([0.21074504, 0.07441307, 0.09388348, 0.47122595, 0.14973252],\n",
      "      dtype=float32), 'classes': 3}\n",
      "result: {'probabilities': array([0.23124921, 0.28388667, 0.09810852, 0.26357982, 0.12317576],\n",
      "      dtype=float32), 'classes': 1}\n",
      "result: {'probabilities': array([0.1211851 , 0.5625489 , 0.15319236, 0.11725628, 0.04581741],\n",
      "      dtype=float32), 'classes': 1}\n",
      "result: {'probabilities': array([0.09658152, 0.0762159 , 0.16437101, 0.10240985, 0.56042165],\n",
      "      dtype=float32), 'classes': 4}\n",
      "result: {'probabilities': array([0.23653348, 0.3348715 , 0.11349007, 0.1589564 , 0.15614855],\n",
      "      dtype=float32), 'classes': 1}\n",
      "result: {'probabilities': array([0.38615653, 0.22002557, 0.09782652, 0.15803385, 0.13795759],\n",
      "      dtype=float32), 'classes': 0}\n",
      "result: {'probabilities': array([0.21146297, 0.13800478, 0.1858875 , 0.05062068, 0.41402408],\n",
      "      dtype=float32), 'classes': 4}\n",
      "result: {'probabilities': array([0.09573288, 0.10890408, 0.32576242, 0.13349679, 0.3361038 ],\n",
      "      dtype=float32), 'classes': 4}\n",
      "result: {'probabilities': array([0.03814723, 0.85143286, 0.04442466, 0.04565606, 0.0203391 ],\n",
      "      dtype=float32), 'classes': 1}\n",
      "result: {'probabilities': array([0.08966656, 0.5915907 , 0.0898419 , 0.14899415, 0.07990672],\n",
      "      dtype=float32), 'classes': 1}\n",
      "result: {'probabilities': array([0.13893446, 0.04406046, 0.22551258, 0.05051555, 0.5409769 ],\n",
      "      dtype=float32), 'classes': 4}\n",
      "result: {'probabilities': array([0.13727316, 0.18079412, 0.13916227, 0.37791392, 0.16485655],\n",
      "      dtype=float32), 'classes': 3}\n",
      "result: {'probabilities': array([0.1192552 , 0.05248199, 0.26966703, 0.08160364, 0.4769922 ],\n",
      "      dtype=float32), 'classes': 4}\n",
      "result: {'probabilities': array([0.1767946 , 0.24689703, 0.13106205, 0.31826323, 0.12698308],\n",
      "      dtype=float32), 'classes': 3}\n",
      "result: {'probabilities': array([0.2233369 , 0.26315555, 0.05284039, 0.20857957, 0.2520876 ],\n",
      "      dtype=float32), 'classes': 1}\n",
      "result: {'probabilities': array([0.03908533, 0.01524638, 0.59490705, 0.05626123, 0.29450008],\n",
      "      dtype=float32), 'classes': 2}\n",
      "result: {'probabilities': array([0.10590254, 0.07801139, 0.3455494 , 0.1126224 , 0.35791418],\n",
      "      dtype=float32), 'classes': 4}\n",
      "result: {'probabilities': array([0.06632264, 0.03481319, 0.43416956, 0.11309379, 0.35160083],\n",
      "      dtype=float32), 'classes': 2}\n",
      "result: {'probabilities': array([0.27090153, 0.15170264, 0.21221747, 0.23081045, 0.134368  ],\n",
      "      dtype=float32), 'classes': 0}\n",
      "result: {'probabilities': array([0.15528196, 0.5597379 , 0.06790379, 0.08856317, 0.12851311],\n",
      "      dtype=float32), 'classes': 1}\n",
      "result: {'probabilities': array([0.10711864, 0.15532519, 0.11419439, 0.5566225 , 0.06673925],\n",
      "      dtype=float32), 'classes': 3}\n",
      "result: {'probabilities': array([0.22629723, 0.08084653, 0.41541317, 0.1601558 , 0.11728722],\n",
      "      dtype=float32), 'classes': 2}\n",
      "result: {'probabilities': array([0.0389164 , 0.00831822, 0.05360955, 0.00995561, 0.8892002 ],\n",
      "      dtype=float32), 'classes': 4}\n",
      "result: {'probabilities': array([0.43176627, 0.08602183, 0.14384843, 0.22009449, 0.11826907],\n",
      "      dtype=float32), 'classes': 0}\n",
      "result: {'probabilities': array([0.2050077 , 0.18021335, 0.05604599, 0.44429395, 0.11443899],\n",
      "      dtype=float32), 'classes': 3}\n",
      "result: {'probabilities': array([0.15997127, 0.17881015, 0.22647873, 0.3206365 , 0.11410337],\n",
      "      dtype=float32), 'classes': 3}\n",
      "result: {'probabilities': array([0.3907429 , 0.3164329 , 0.02638341, 0.16545081, 0.10099006],\n",
      "      dtype=float32), 'classes': 0}\n",
      "result: {'probabilities': array([0.20149031, 0.12895341, 0.18203126, 0.24542898, 0.24209602],\n",
      "      dtype=float32), 'classes': 3}\n",
      "result: {'probabilities': array([0.12055656, 0.64665186, 0.07456345, 0.0987809 , 0.05944717],\n",
      "      dtype=float32), 'classes': 1}\n",
      "result: {'probabilities': array([0.15280886, 0.46804982, 0.09379879, 0.13305487, 0.15228765],\n",
      "      dtype=float32), 'classes': 1}\n",
      "result: {'probabilities': array([0.56540436, 0.11656384, 0.09504368, 0.09485821, 0.12812981],\n",
      "      dtype=float32), 'classes': 0}\n",
      "result: {'probabilities': array([0.07637537, 0.04498639, 0.38559976, 0.06954023, 0.42349818],\n",
      "      dtype=float32), 'classes': 4}\n",
      "result: {'probabilities': array([0.2538999 , 0.19146648, 0.2686958 , 0.08723277, 0.19870503],\n",
      "      dtype=float32), 'classes': 2}\n",
      "result: {'probabilities': array([0.09914984, 0.7228963 , 0.03627314, 0.05424026, 0.08744058],\n",
      "      dtype=float32), 'classes': 1}\n",
      "result: {'probabilities': array([0.17346267, 0.20559084, 0.0731624 , 0.4386491 , 0.10913499],\n",
      "      dtype=float32), 'classes': 3}\n",
      "result: {'probabilities': array([0.10645453, 0.09061197, 0.15056522, 0.5931754 , 0.05919285],\n",
      "      dtype=float32), 'classes': 3}\n",
      "result: {'probabilities': array([0.07570624, 0.77892697, 0.06077236, 0.0585586 , 0.02603593],\n",
      "      dtype=float32), 'classes': 1}\n",
      "result: {'probabilities': array([0.18961316, 0.48230806, 0.07781731, 0.12164905, 0.12861238],\n",
      "      dtype=float32), 'classes': 1}\n",
      "result: {'probabilities': array([0.15031908, 0.20356469, 0.16134724, 0.32977286, 0.15499613],\n",
      "      dtype=float32), 'classes': 3}\n",
      "result: {'probabilities': array([0.12898579, 0.0856718 , 0.11405202, 0.05110685, 0.6201836 ],\n",
      "      dtype=float32), 'classes': 4}\n",
      "result: {'probabilities': array([0.06965245, 0.03914803, 0.51366276, 0.09386527, 0.28367153],\n",
      "      dtype=float32), 'classes': 2}\n",
      "result: {'probabilities': array([0.01247869, 0.01766668, 0.10864492, 0.05212853, 0.8090812 ],\n",
      "      dtype=float32), 'classes': 4}\n",
      "result: {'probabilities': array([0.12925854, 0.03676283, 0.21741983, 0.06352049, 0.5530383 ],\n",
      "      dtype=float32), 'classes': 4}\n",
      "result: {'probabilities': array([0.48979303, 0.13311942, 0.09113491, 0.19983609, 0.08611655],\n",
      "      dtype=float32), 'classes': 0}\n",
      "result: {'probabilities': array([0.22229445, 0.32853007, 0.13170506, 0.18627904, 0.13119146],\n",
      "      dtype=float32), 'classes': 1}\n",
      "result: {'probabilities': array([0.19285697, 0.11835266, 0.16335617, 0.19285697, 0.33257723],\n",
      "      dtype=float32), 'classes': 4}\n",
      "result: {'probabilities': array([0.15605171, 0.03428009, 0.44455025, 0.08032873, 0.28478914],\n",
      "      dtype=float32), 'classes': 2}\n",
      "result: {'probabilities': array([0.06508534, 0.03304812, 0.46339932, 0.09943699, 0.3390303 ],\n",
      "      dtype=float32), 'classes': 2}\n",
      "result: {'probabilities': array([0.07248479, 0.06845993, 0.03915995, 0.7804283 , 0.03946707],\n",
      "      dtype=float32), 'classes': 3}\n",
      "result: {'probabilities': array([0.07409932, 0.8115614 , 0.0553354 , 0.02691565, 0.03208821],\n",
      "      dtype=float32), 'classes': 1}\n",
      "result: {'probabilities': array([0.40001428, 0.2196182 , 0.08617166, 0.19305655, 0.10113937],\n",
      "      dtype=float32), 'classes': 0}\n",
      "result: {'probabilities': array([0.13836005, 0.14060764, 0.13361329, 0.47940058, 0.10801838],\n",
      "      dtype=float32), 'classes': 3}\n",
      "result: {'probabilities': array([0.06582637, 0.04111281, 0.58785176, 0.05532318, 0.24988586],\n",
      "      dtype=float32), 'classes': 2}\n",
      "result: {'probabilities': array([0.13749725, 0.07468271, 0.44514784, 0.08504091, 0.2576314 ],\n",
      "      dtype=float32), 'classes': 2}\n",
      "result: {'probabilities': array([0.11057133, 0.03896599, 0.3639675 , 0.11967256, 0.36682257],\n",
      "      dtype=float32), 'classes': 4}\n",
      "result: {'probabilities': array([0.17601056, 0.16795021, 0.06337439, 0.49267048, 0.09999426],\n",
      "      dtype=float32), 'classes': 3}\n",
      "result: {'probabilities': array([0.27435946, 0.14514308, 0.2765116 , 0.09668627, 0.20729962],\n",
      "      dtype=float32), 'classes': 2}\n",
      "result: {'probabilities': array([0.08815707, 0.1372088 , 0.10092448, 0.60657763, 0.06713198],\n",
      "      dtype=float32), 'classes': 3}\n",
      "result: {'probabilities': array([0.14109227, 0.04058185, 0.07039362, 0.04800426, 0.69992805],\n",
      "      dtype=float32), 'classes': 4}\n",
      "result: {'probabilities': array([0.17882532, 0.08171242, 0.38604006, 0.11089966, 0.24252258],\n",
      "      dtype=float32), 'classes': 2}\n",
      "result: {'probabilities': array([0.16982657, 0.22550532, 0.17257454, 0.15363136, 0.27846223],\n",
      "      dtype=float32), 'classes': 4}\n",
      "result: {'probabilities': array([0.44459608, 0.18317594, 0.07343359, 0.18461256, 0.11418181],\n",
      "      dtype=float32), 'classes': 0}\n",
      "result: {'probabilities': array([0.12857412, 0.18399385, 0.14813231, 0.45538965, 0.08391003],\n",
      "      dtype=float32), 'classes': 3}\n",
      "result: {'probabilities': array([0.06999179, 0.09369656, 0.265179  , 0.11294372, 0.45818898],\n",
      "      dtype=float32), 'classes': 4}\n",
      "result: {'probabilities': array([0.21605568, 0.33990425, 0.16213472, 0.11689545, 0.16500995],\n",
      "      dtype=float32), 'classes': 1}\n",
      "result: {'probabilities': array([0.09635845, 0.08911686, 0.33962452, 0.22447732, 0.25042287],\n",
      "      dtype=float32), 'classes': 2}\n",
      "result: {'probabilities': array([0.10442372, 0.25845146, 0.21934462, 0.25643986, 0.16134025],\n",
      "      dtype=float32), 'classes': 1}\n",
      "result: {'probabilities': array([0.05646534, 0.848602  , 0.0188951 , 0.04631132, 0.02972621],\n",
      "      dtype=float32), 'classes': 1}\n",
      "result: {'probabilities': array([0.11250113, 0.09605615, 0.07598671, 0.11190772, 0.6035482 ],\n",
      "      dtype=float32), 'classes': 4}\n",
      "result: {'probabilities': array([0.11105066, 0.05317861, 0.11752212, 0.08292945, 0.63531905],\n",
      "      dtype=float32), 'classes': 4}\n",
      "result: {'probabilities': array([0.521682  , 0.21077836, 0.05830282, 0.12050908, 0.08872778],\n",
      "      dtype=float32), 'classes': 0}\n",
      "result: {'probabilities': array([0.47381014, 0.10945062, 0.0735177 , 0.25760558, 0.0856159 ],\n",
      "      dtype=float32), 'classes': 0}\n",
      "result: {'probabilities': array([0.15535097, 0.18202285, 0.20950778, 0.22301933, 0.23009911],\n",
      "      dtype=float32), 'classes': 4}\n",
      "result: {'probabilities': array([0.11566189, 0.09739703, 0.40212628, 0.12109462, 0.2637201 ],\n",
      "      dtype=float32), 'classes': 2}\n",
      "result: {'probabilities': array([0.03522887, 0.8909936 , 0.02830727, 0.02989837, 0.01557183],\n",
      "      dtype=float32), 'classes': 1}\n",
      "result: {'probabilities': array([0.05874074, 0.04005768, 0.2902633 , 0.1470981 , 0.46384016],\n",
      "      dtype=float32), 'classes': 4}\n",
      "result: {'probabilities': array([0.15947235, 0.29851606, 0.04437054, 0.42097557, 0.07666548],\n",
      "      dtype=float32), 'classes': 3}\n",
      "result: {'probabilities': array([0.07057279, 0.08541853, 0.14062513, 0.62411386, 0.07926974],\n",
      "      dtype=float32), 'classes': 3}\n",
      "result: {'probabilities': array([0.13736495, 0.17424044, 0.25902364, 0.09021808, 0.3391529 ],\n",
      "      dtype=float32), 'classes': 4}\n",
      "result: {'probabilities': array([0.32301942, 0.28064382, 0.09567095, 0.15154426, 0.1491216 ],\n",
      "      dtype=float32), 'classes': 0}\n",
      "result: {'probabilities': array([0.57501096, 0.1760552 , 0.04539144, 0.1343285 , 0.06921382],\n",
      "      dtype=float32), 'classes': 0}\n",
      "result: {'probabilities': array([0.1600649 , 0.266622  , 0.10899474, 0.24371241, 0.22060597],\n",
      "      dtype=float32), 'classes': 1}\n",
      "result: {'probabilities': array([0.31492957, 0.3725301 , 0.06549911, 0.12774089, 0.11930038],\n",
      "      dtype=float32), 'classes': 1}\n",
      "result: {'probabilities': array([0.14755958, 0.18008894, 0.0826116 , 0.49530226, 0.09443773],\n",
      "      dtype=float32), 'classes': 3}\n",
      "result: {'probabilities': array([0.16627763, 0.39116502, 0.06286586, 0.23266505, 0.14702645],\n",
      "      dtype=float32), 'classes': 1}\n",
      "result: {'probabilities': array([0.06356882, 0.10745629, 0.11407306, 0.6572475 , 0.05765438],\n",
      "      dtype=float32), 'classes': 3}\n",
      "result: {'probabilities': array([0.822371  , 0.02792095, 0.0156623 , 0.10253038, 0.03151535],\n",
      "      dtype=float32), 'classes': 0}\n",
      "result: {'probabilities': array([0.25822854, 0.09462664, 0.22087398, 0.23511992, 0.19115086],\n",
      "      dtype=float32), 'classes': 0}\n",
      "result: {'probabilities': array([0.13932589, 0.11276067, 0.22956964, 0.2541105 , 0.26423332],\n",
      "      dtype=float32), 'classes': 4}\n",
      "result: {'probabilities': array([0.10099265, 0.68814105, 0.08579505, 0.07675612, 0.04831513],\n",
      "      dtype=float32), 'classes': 1}\n",
      "result: {'probabilities': array([0.5432059 , 0.12350573, 0.04618448, 0.2419893 , 0.04511452],\n",
      "      dtype=float32), 'classes': 0}\n",
      "result: {'probabilities': array([0.3222502 , 0.12423833, 0.17388304, 0.1624334 , 0.217195  ],\n",
      "      dtype=float32), 'classes': 0}\n",
      "result: {'probabilities': array([0.11738385, 0.06618492, 0.22302738, 0.1081655 , 0.48523846],\n",
      "      dtype=float32), 'classes': 4}\n",
      "result: {'probabilities': array([0.22844988, 0.22578819, 0.0941226 , 0.3285203 , 0.12311904],\n",
      "      dtype=float32), 'classes': 3}\n",
      "result: {'probabilities': array([0.12402378, 0.1845528 , 0.14907996, 0.31732592, 0.22501753],\n",
      "      dtype=float32), 'classes': 3}\n",
      "result: {'probabilities': array([0.10953274, 0.6888982 , 0.04817974, 0.11169349, 0.04169597],\n",
      "      dtype=float32), 'classes': 1}\n",
      "result: {'probabilities': array([0.1560032 , 0.17167088, 0.08632164, 0.48429275, 0.10171151],\n",
      "      dtype=float32), 'classes': 3}\n",
      "result: {'probabilities': array([0.28283507, 0.2189852 , 0.14846231, 0.15332457, 0.1963928 ],\n",
      "      dtype=float32), 'classes': 0}\n",
      "result: {'probabilities': array([0.078474  , 0.09766228, 0.16874559, 0.04506378, 0.6100544 ],\n",
      "      dtype=float32), 'classes': 4}\n",
      "result: {'probabilities': array([0.18393642, 0.17279202, 0.12183814, 0.16200636, 0.3594271 ],\n",
      "      dtype=float32), 'classes': 4}\n",
      "result: {'probabilities': array([0.05215684, 0.02260823, 0.16575356, 0.08310232, 0.676379  ],\n",
      "      dtype=float32), 'classes': 4}\n",
      "result: {'probabilities': array([0.08698203, 0.65539306, 0.07127062, 0.11727633, 0.06907799],\n",
      "      dtype=float32), 'classes': 1}\n",
      "result: {'probabilities': array([0.04324862, 0.7286431 , 0.10982097, 0.08676931, 0.03151798],\n",
      "      dtype=float32), 'classes': 1}\n",
      "result: {'probabilities': array([0.16864993, 0.10438507, 0.4632754 , 0.09635203, 0.16733757],\n",
      "      dtype=float32), 'classes': 2}\n",
      "result: {'probabilities': array([0.09373348, 0.5769978 , 0.11284322, 0.15318775, 0.06323774],\n",
      "      dtype=float32), 'classes': 1}\n",
      "result: {'probabilities': array([0.25393173, 0.35600898, 0.16395035, 0.09071921, 0.13538983],\n",
      "      dtype=float32), 'classes': 1}\n",
      "result: {'probabilities': array([0.14349881, 0.17124286, 0.46822163, 0.09531088, 0.12172586],\n",
      "      dtype=float32), 'classes': 2}\n",
      "result: {'probabilities': array([0.09819821, 0.67831147, 0.07419644, 0.0900237 , 0.05927018],\n",
      "      dtype=float32), 'classes': 1}\n",
      "result: {'probabilities': array([0.5031865 , 0.10363576, 0.0854151 , 0.2073155 , 0.10044707],\n",
      "      dtype=float32), 'classes': 0}\n",
      "result: {'probabilities': array([0.12014523, 0.155252  , 0.11380677, 0.45899275, 0.1518033 ],\n",
      "      dtype=float32), 'classes': 3}\n",
      "result: {'probabilities': array([0.03780637, 0.02145742, 0.07742231, 0.05812834, 0.8051856 ],\n",
      "      dtype=float32), 'classes': 4}\n",
      "result: {'probabilities': array([0.11031097, 0.17524691, 0.05407725, 0.5150798 , 0.14528506],\n",
      "      dtype=float32), 'classes': 3}\n",
      "result: {'probabilities': array([0.23281598, 0.14654899, 0.22742316, 0.2425637 , 0.15064818],\n",
      "      dtype=float32), 'classes': 3}\n",
      "result: {'probabilities': array([0.0485414 , 0.01875094, 0.45785797, 0.09229551, 0.38255426],\n",
      "      dtype=float32), 'classes': 2}\n",
      "result: {'probabilities': array([0.2616289 , 0.29415736, 0.05860583, 0.3023122 , 0.08329577],\n",
      "      dtype=float32), 'classes': 3}\n",
      "result: {'probabilities': array([0.1261466 , 0.04935151, 0.19366989, 0.04123488, 0.58959717],\n",
      "      dtype=float32), 'classes': 4}\n",
      "result: {'probabilities': array([0.5140693 , 0.08457741, 0.14317085, 0.14503548, 0.11314695],\n",
      "      dtype=float32), 'classes': 0}\n",
      "result: {'probabilities': array([0.22409306, 0.43533835, 0.06247188, 0.12631987, 0.15177692],\n",
      "      dtype=float32), 'classes': 1}\n",
      "result: {'probabilities': array([0.21601166, 0.21855718, 0.09381682, 0.34925392, 0.12236039],\n",
      "      dtype=float32), 'classes': 3}\n",
      "result: {'probabilities': array([0.19113131, 0.5006222 , 0.079831  , 0.09686065, 0.13155489],\n",
      "      dtype=float32), 'classes': 1}\n",
      "result: {'probabilities': array([0.11985411, 0.11973716, 0.16697076, 0.12721069, 0.46622726],\n",
      "      dtype=float32), 'classes': 4}\n",
      "result: {'probabilities': array([0.09024644, 0.17059037, 0.09711643, 0.57485   , 0.06719679],\n",
      "      dtype=float32), 'classes': 3}\n",
      "result: {'probabilities': array([0.45284522, 0.20411317, 0.08710479, 0.16465181, 0.09128504],\n",
      "      dtype=float32), 'classes': 0}\n",
      "result: {'probabilities': array([0.05735522, 0.04363362, 0.39502653, 0.17392802, 0.33005667],\n",
      "      dtype=float32), 'classes': 2}\n",
      "result: {'probabilities': array([0.12157688, 0.5015909 , 0.09443025, 0.15875965, 0.12364232],\n",
      "      dtype=float32), 'classes': 1}\n",
      "result: {'probabilities': array([0.08426724, 0.29642808, 0.18477726, 0.30703515, 0.12749223],\n",
      "      dtype=float32), 'classes': 3}\n",
      "result: {'probabilities': array([0.09691413, 0.6279598 , 0.05035195, 0.13501206, 0.08976217],\n",
      "      dtype=float32), 'classes': 1}\n",
      "result: {'probabilities': array([0.0829209 , 0.71772844, 0.06007659, 0.07303465, 0.06623942],\n",
      "      dtype=float32), 'classes': 1}\n",
      "result: {'probabilities': array([0.21954641, 0.16343243, 0.11039496, 0.22963428, 0.2769919 ],\n",
      "      dtype=float32), 'classes': 4}\n",
      "result: {'probabilities': array([0.21163185, 0.19842225, 0.3355559 , 0.09727149, 0.1571185 ],\n",
      "      dtype=float32), 'classes': 2}\n",
      "result: {'probabilities': array([0.13216124, 0.19229282, 0.15102236, 0.4308075 , 0.09371608],\n",
      "      dtype=float32), 'classes': 3}\n",
      "result: {'probabilities': array([0.10905893, 0.04884568, 0.20726073, 0.14725772, 0.48757696],\n",
      "      dtype=float32), 'classes': 4}\n",
      "result: {'probabilities': array([0.04788847, 0.08894473, 0.06031532, 0.7288973 , 0.07395418],\n",
      "      dtype=float32), 'classes': 3}\n",
      "result: {'probabilities': array([0.07292261, 0.09436885, 0.32554272, 0.2013464 , 0.30581942],\n",
      "      dtype=float32), 'classes': 2}\n",
      "result: {'probabilities': array([0.16382994, 0.49680975, 0.12500107, 0.12545982, 0.08889936],\n",
      "      dtype=float32), 'classes': 1}\n",
      "result: {'probabilities': array([0.14254026, 0.16246893, 0.1959746 , 0.2901981 , 0.2088181 ],\n",
      "      dtype=float32), 'classes': 3}\n",
      "I0325 19:28:28.696260 139948228130688 tpu_estimator.py:536] Enqueue next (1) batch(es) of data to infeed.\n",
      "I0325 19:28:28.696568 139948228130688 tpu_estimator.py:540] Dequeue next (1) batch(es) of data from outfeed.\n",
      "I0325 19:29:15.189768 139948228130688 tpu_estimator.py:545] Stop infeed thread controller\n",
      "I0325 19:29:15.190072 139948228130688 tpu_estimator.py:392] Shutting down InfeedController thread.\n",
      "I0325 19:29:15.190723 139947207378688 tpu_estimator.py:387] InfeedController received shutdown signal, stopping.\n",
      "I0325 19:29:15.190905 139947207378688 tpu_estimator.py:479] Infeed thread finished, shutting down.\n",
      "I0325 19:29:15.191109 139948228130688 error_handling.py:93] infeed marked as finished\n",
      "I0325 19:29:15.191256 139948228130688 tpu_estimator.py:549] Stop output thread controller\n",
      "I0325 19:29:15.191334 139948228130688 tpu_estimator.py:392] Shutting down OutfeedController thread.\n",
      "I0325 19:29:15.191534 139947198985984 tpu_estimator.py:387] OutfeedController received shutdown signal, stopping.\n",
      "I0325 19:29:15.191668 139947198985984 tpu_estimator.py:488] Outfeed thread finished, shutting down.\n",
      "I0325 19:29:15.191821 139948228130688 error_handling.py:93] outfeed marked as finished\n",
      "I0325 19:29:15.191937 139948228130688 tpu_estimator.py:553] Shutdown TPU system.\n",
      "I0325 19:29:24.510428 139948228130688 error_handling.py:93] prediction_loop marked as finished\n",
      "I0325 19:29:24.510865 139948228130688 error_handling.py:93] prediction_loop marked as finished\n"
     ]
    }
   ],
   "source": [
    "!python2 resnet_main.py \\\n",
    "  --tpu=$TPU \\\n",
    "  --data_dir=\"gs://resnet-tpu-colab/data\" \\\n",
    "  --model_dir=\"gs://resnet-tpu-colab/resnet-tpu-model\" \\\n",
    "  --mode=predict \\\n",
    "  --predict_batch_size=360 \\\n",
    "  --num_test_images=372"
   ]
  },
  {
   "cell_type": "code",
   "execution_count": 0,
   "metadata": {
    "id": "pkhmZq763Q0k",
    "colab_type": "code",
    "outputId": "b1c262fc-b812-47e2-8e36-05105be37597",
    "executionInfo": {
     "status": "ok",
     "timestamp": 1.552547166965E12,
     "user_tz": 420.0,
     "elapsed": 4456.0,
     "user": {
      "displayName": "Rishabh Indoria",
      "photoUrl": "",
      "userId": "02918094268619667018"
     }
    },
    "colab": {
     "base_uri": "https://localhost:8080/",
     "height": 68.0
    }
   },
   "outputs": [
    {
     "name": "stdout",
     "output_type": "stream",
     "text": [
      "Archive:  ngrok-stable-linux-amd64.zip\n",
      "replace ngrok? [y]es, [n]o, [A]ll, [N]one, [r]ename: y\n",
      "  inflating: ngrok                   \n"
     ]
    }
   ],
   "source": [
    "!unzip ngrok-stable-linux-amd64.zip"
   ]
  },
  {
   "cell_type": "code",
   "execution_count": 0,
   "metadata": {
    "id": "3XBa-1tv3PqA",
    "colab_type": "code",
    "outputId": "c26140ee-6966-4130-a2be-559befcc0c7d",
    "executionInfo": {
     "status": "ok",
     "timestamp": 1.552547168462E12,
     "user_tz": 420.0,
     "elapsed": 1180.0,
     "user": {
      "displayName": "Rishabh Indoria",
      "photoUrl": "",
      "userId": "02918094268619667018"
     }
    },
    "colab": {
     "base_uri": "https://localhost:8080/",
     "height": 34.0
    }
   },
   "outputs": [
    {
     "name": "stdout",
     "output_type": "stream",
     "text": [
      "https://622a22e3.ngrok.io\n"
     ]
    }
   ],
   "source": [
    "LOG_DIR = 'gs://resnet-tpu-colab/resnet-tpu/'\n",
    "get_ipython().system_raw(\n",
    "    'tensorboard --logdir {} --host 0.0.0.0 --port 6006 &'\n",
    "    .format(LOG_DIR)\n",
    ")\n",
    "\n",
    "get_ipython().system_raw('./ngrok http 6006 &')\n",
    "\n",
    "!curl -s http://localhost:4040/api/tunnels | python3 -c \\\n",
    "    \"import sys, json; print(json.load(sys.stdin)['tunnels'][0]['public_url'])\""
   ]
  },
  {
   "cell_type": "code",
   "execution_count": 0,
   "metadata": {
    "id": "Vv4nJYKrLgxL",
    "colab_type": "code",
    "colab": {}
   },
   "outputs": [],
   "source": [
    "####misc commands\n",
    "# import subprocess\n",
    "# subprocess.Popen([\"capture_tpu_profile\",\"--logdir=gs://resnet-tpu-colab/resnet-tpu-pipeline\", \"--service_addr={}\".format(os.environ['COLAB_TPU_ADDR'])])\n",
    "# !capture_tpu_profile --tpu=\"grpc://10.102.83.170:8470\"  --monitoring_level=2"
   ]
  }
 ],
 "metadata": {
  "colab": {
   "name": "Flowers-TPU-Resnet.ipynb",
   "version": "0.3.2",
   "provenance": [
    {
     "file_id": "18AN2AUM5sEsTMGUzFUL0FLSULtXF4Ps0",
     "timestamp": 1.55087050328E12
    }
   ],
   "collapsed_sections": []
  },
  "kernelspec": {
   "name": "python3",
   "display_name": "Python 3"
  },
  "accelerator": "TPU"
 },
 "nbformat": 4,
 "nbformat_minor": 0
}
