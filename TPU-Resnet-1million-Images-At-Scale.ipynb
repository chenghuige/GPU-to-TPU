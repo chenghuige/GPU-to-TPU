{
 "cells": [
  {
   "cell_type": "code",
   "execution_count": 5,
   "metadata": {
    "id": "kLCqfUHUF7u1",
    "colab_type": "code",
    "outputId": "88fbb3ea-f7d2-42ba-9850-ca0fc4466e40",
    "executionInfo": {
     "status": "ok",
     "timestamp": 1.55294454019E12,
     "user_tz": 420.0,
     "elapsed": 3876.0,
     "user": {
      "displayName": "Rishabh Indoria",
      "photoUrl": "",
      "userId": "02918094268619667018"
     }
    },
    "colab": {
     "base_uri": "https://localhost:8080/",
     "height": 34.0
    },
    "collapsed": false
   },
   "outputs": [
    {
     "name": "stdout",
     "output_type": "stream",
     "text": [
      "Mounted at /content/drive\n"
     ]
    }
   ],
   "source": [
    "from google.colab import drive\n",
    "drive.mount('/content/drive', force_remount=True)\n",
    "import os\n",
    "os.chdir(\"/content/drive/My Drive/ResnetTPU\")"
   ]
  },
  {
   "cell_type": "code",
   "execution_count": 0,
   "metadata": {
    "id": "PzUzzruLofp1",
    "colab_type": "code",
    "colab": {}
   },
   "outputs": [],
   "source": [
    "import tensorflow as tf\n",
    "import json\n",
    "# Auth on Colab (little wrinkle: without auth, Colab will be extremely slow in accessing data from a GCS bucket, even public).\n",
    "IS_COLAB_BACKEND = 'COLAB_GPU' in os.environ  # this is always set on Colab, the value is 0 or 1 depending on GPU presence\n",
    "if IS_COLAB_BACKEND:\n",
    "  from google.colab import auth\n",
    "  auth.authenticate_user()  # Starts an Auth prompt\n",
    "  if 'COLAB_TPU_ADDR' in os.environ:  # if using a TPU backend\n",
    "    with tf.Session('grpc://{}'.format(os.environ['COLAB_TPU_ADDR'])) as sess:    \n",
    "      with open('<YOUR FILE>.json', 'r') as auth_info:\n",
    "        # Propagate the Colab Auth so that the TPU can access your GCS buckets. This is not necessary for\n",
    "        # the public bucket used in this sample but it will be once you work with your own non-public data.\n",
    "        tf.contrib.cloud.configure_gcs(sess, credentials=json.load(auth_info))  # Upload the credentials to TPU"
   ]
  },
  {
   "cell_type": "code",
   "execution_count": 7,
   "metadata": {
    "id": "iMcZ3F5VyDkJ",
    "colab_type": "code",
    "outputId": "85cb3014-9f99-4873-b945-87656d2fb094",
    "executionInfo": {
     "status": "ok",
     "timestamp": 1.552944544525E12,
     "user_tz": 420.0,
     "elapsed": 6411.0,
     "user": {
      "displayName": "Rishabh Indoria",
      "photoUrl": "",
      "userId": "02918094268619667018"
     }
    },
    "colab": {
     "base_uri": "https://localhost:8080/",
     "height": 34.0
    },
    "collapsed": false
   },
   "outputs": [
    {
     "name": "stdout",
     "output_type": "stream",
     "text": [
      "Requirement already satisfied: cloud-tpu-profiler in /usr/local/lib/python3.6/dist-packages (1.13.0)\n"
     ]
    }
   ],
   "source": [
    "!pip install cloud-tpu-profiler"
   ]
  },
  {
   "cell_type": "code",
   "execution_count": 8,
   "metadata": {
    "id": "dtUM5YuwZCQk",
    "colab_type": "code",
    "outputId": "0c0008f0-5684-49f0-d3a2-4c44eb8eaff2",
    "executionInfo": {
     "status": "ok",
     "timestamp": 1.552944546814E12,
     "user_tz": 420.0,
     "elapsed": 276.0,
     "user": {
      "displayName": "Rishabh Indoria",
      "photoUrl": "",
      "userId": "02918094268619667018"
     }
    },
    "colab": {
     "base_uri": "https://localhost:8080/",
     "height": 34.0
    }
   },
   "outputs": [
    {
     "name": "stdout",
     "output_type": "stream",
     "text": [
      "/content/drive/My Drive/ResnetTPU/tpu/models/official/resnet\n"
     ]
    }
   ],
   "source": [
    "cd tpu/models/official/resnet"
   ]
  },
  {
   "cell_type": "code",
   "execution_count": 9,
   "metadata": {
    "id": "r6q_eWU-JHOf",
    "colab_type": "code",
    "outputId": "191c6a79-d4d1-4829-b65f-4a84b9e70049",
    "executionInfo": {
     "status": "ok",
     "timestamp": 1.552944547416E12,
     "user_tz": 420.0,
     "elapsed": 227.0,
     "user": {
      "displayName": "Rishabh Indoria",
      "photoUrl": "",
      "userId": "02918094268619667018"
     }
    },
    "colab": {
     "base_uri": "https://localhost:8080/",
     "height": 34.0
    },
    "collapsed": false
   },
   "outputs": [
    {
     "name": "stdout",
     "output_type": "stream",
     "text": [
      "env: PYTHONPATH=/env/python:/content/drive/My Drive/ResnetTPU/tpu/models\n"
     ]
    }
   ],
   "source": [
    "%set_env PYTHONPATH=/env/python:/content/drive/My Drive/ResnetTPU/tpu/models"
   ]
  },
  {
   "cell_type": "code",
   "execution_count": null,
   "metadata": {
    "id": "axmTEPJFJd4D",
    "colab_type": "code",
    "outputId": "62c3198d-ed4b-4147-d49a-903b3fa5047f",
    "executionInfo": {
     "status": "ok",
     "timestamp": 1.552882930254E12,
     "user_tz": 420.0,
     "elapsed": 3471.0,
     "user": {
      "displayName": "Rishabh Indoria",
      "photoUrl": "",
      "userId": "02918094268619667018"
     }
    },
    "colab": {
     "base_uri": "https://localhost:8080/",
     "height": 34.0
    },
    "collapsed": false
   },
   "outputs": [],
   "source": [
    "!echo $PYTHONPATH"
   ]
  },
  {
   "cell_type": "code",
   "execution_count": 11,
   "metadata": {
    "id": "9r5vp1q3FrjQ",
    "colab_type": "code",
    "outputId": "732aef91-0b26-4787-f1e6-2988914267d2",
    "executionInfo": {
     "status": "ok",
     "timestamp": 1.552945331208E12,
     "user_tz": 420.0,
     "elapsed": 732223.0,
     "user": {
      "displayName": "Rishabh Indoria",
      "photoUrl": "",
      "userId": "02918094268619667018"
     }
    },
    "colab": {
     "base_uri": "https://localhost:8080/",
     "height": 1975.0
    },
    "collapsed": false
   },
   "outputs": [
    {
     "name": "stdout",
     "output_type": "stream",
     "text": [
      "I0318 21:30:08.122473 139947819169664 resnet_main.py:553] Model params: {'dropblock_keep_prob': 0.9, 'transpose_input': True, 'use_async_checkpointing': False, 'dropblock_groups': '', 'poly_rate': 0.0, 'dropblock_size': 7, 'precision': 'bfloat16', 'base_learning_rate': 0.1, 'use_cache': True, 'image_size': 299, 'train_batch_size': 4096, 'weight_decay': 0.0001, 'num_train_images': 1281167, 'train_steps': 936, 'use_tpu': True, 'skip_host_call': False, 'eval_batch_size': 360, 'num_cores': 8, 'data_format': 'channels_last', 'resnet_depth': 50, 'num_label_classes': 1000, 'num_parallel_calls': 128, 'iterations_per_loop': 312, 'num_eval_images': 364, 'label_smoothing': 0.0, 'momentum': 0.9, 'enable_lars': False}\n",
      "I0318 21:30:08.123852 139947819169664 estimator.py:201] Using config: {'_save_checkpoints_secs': None, '_session_config': graph_options {\n",
      "  rewrite_options {\n",
      "    disable_meta_optimizer: true\n",
      "  }\n",
      "}\n",
      "cluster_def {\n",
      "  job {\n",
      "    name: \"worker\"\n",
      "    tasks {\n",
      "      key: 0\n",
      "      value: \"10.41.141.74:8470\"\n",
      "    }\n",
      "  }\n",
      "}\n",
      ", '_keep_checkpoint_max': 5, '_task_type': 'worker', '_train_distribute': None, '_is_chief': True, '_cluster_spec': <tensorflow.python.training.server_lib.ClusterSpec object at 0x7f47ef72e110>, '_model_dir': 'gs://resnet-tpu-colab/resnet-tpu-fake-data-model', '_protocol': None, '_save_checkpoints_steps': 312, '_keep_checkpoint_every_n_hours': 10000, '_service': None, '_num_ps_replicas': 0, '_tpu_config': TPUConfig(iterations_per_loop=312, num_shards=8, num_cores_per_replica=None, per_host_input_for_training=3, tpu_job_name=None, initial_infeed_sleep_secs=None, input_partition_dims=None), '_tf_random_seed': None, '_save_summary_steps': 100, '_device_fn': None, '_cluster': <tensorflow.python.distribute.cluster_resolver.tpu_cluster_resolver.TPUClusterResolver object at 0x7f47ef790e50>, '_experimental_distribute': None, '_num_worker_replicas': 1, '_task_id': 0, '_log_step_count_steps': None, '_evaluation_master': 'grpc://10.41.141.74:8470', '_eval_distribute': None, '_global_id_in_cluster': 0, '_master': 'grpc://10.41.141.74:8470'}\n",
      "I0318 21:30:08.124593 139947819169664 tpu_context.py:202] _TPUContext: eval_on_tpu True\n",
      "I0318 21:30:08.124964 139947819169664 resnet_main.py:607] Precision: bfloat16\n",
      "I0318 21:30:08.125061 139947819169664 resnet_main.py:624] Using fake dataset.\n",
      "I0318 21:30:08.321997 139947819169664 resnet_main.py:703] Training for 936 steps (3.00 epochs in total). Current step 0.\n",
      "W0318 21:30:08.322542 139947819169664 tpu_profiler_hook.py:73] Profiling single TPU pointed by grpc://10.41.141.74:8470. Use tpu name to profile a pod.\n",
      "I0318 21:30:08.323558 139947819169664 tpu_system_metadata.py:59] Querying Tensorflow master (grpc://10.41.141.74:8470) for TPU system metadata.\n",
      "2019-03-18 21:30:08.324941: W tensorflow/core/distributed_runtime/rpc/grpc_session.cc:354] GrpcSession::ListDevices will initialize the session with an empty graph and other defaults because the session has not yet been created.\n",
      "I0318 21:30:08.341305 139947819169664 tpu_system_metadata.py:120] Found TPU system:\n",
      "I0318 21:30:08.341604 139947819169664 tpu_system_metadata.py:121] *** Num TPU Cores: 8\n",
      "I0318 21:30:08.342119 139947819169664 tpu_system_metadata.py:122] *** Num TPU Workers: 1\n",
      "I0318 21:30:08.342206 139947819169664 tpu_system_metadata.py:124] *** Num TPU Cores Per Worker: 8\n",
      "I0318 21:30:08.342293 139947819169664 tpu_system_metadata.py:126] *** Available Device: _DeviceAttributes(/job:worker/replica:0/task:0/device:CPU:0, CPU, -1, 8936217553337695259)\n",
      "I0318 21:30:08.342569 139947819169664 tpu_system_metadata.py:126] *** Available Device: _DeviceAttributes(/job:worker/replica:0/task:0/device:XLA_CPU:0, XLA_CPU, 17179869184, 5651422969125978650)\n",
      "I0318 21:30:08.342648 139947819169664 tpu_system_metadata.py:126] *** Available Device: _DeviceAttributes(/job:worker/replica:0/task:0/device:TPU:0, TPU, 17179869184, 7384755091011198699)\n",
      "I0318 21:30:08.342725 139947819169664 tpu_system_metadata.py:126] *** Available Device: _DeviceAttributes(/job:worker/replica:0/task:0/device:TPU:1, TPU, 17179869184, 6094632692146927019)\n",
      "I0318 21:30:08.342870 139947819169664 tpu_system_metadata.py:126] *** Available Device: _DeviceAttributes(/job:worker/replica:0/task:0/device:TPU:2, TPU, 17179869184, 18189003552561023274)\n",
      "I0318 21:30:08.342976 139947819169664 tpu_system_metadata.py:126] *** Available Device: _DeviceAttributes(/job:worker/replica:0/task:0/device:TPU:3, TPU, 17179869184, 3807386500744629876)\n",
      "I0318 21:30:08.343058 139947819169664 tpu_system_metadata.py:126] *** Available Device: _DeviceAttributes(/job:worker/replica:0/task:0/device:TPU:4, TPU, 17179869184, 16093253458534027239)\n",
      "I0318 21:30:08.343133 139947819169664 tpu_system_metadata.py:126] *** Available Device: _DeviceAttributes(/job:worker/replica:0/task:0/device:TPU:5, TPU, 17179869184, 14047428442230755390)\n",
      "I0318 21:30:08.343214 139947819169664 tpu_system_metadata.py:126] *** Available Device: _DeviceAttributes(/job:worker/replica:0/task:0/device:TPU:6, TPU, 17179869184, 10958133231986700535)\n",
      "I0318 21:30:08.343298 139947819169664 tpu_system_metadata.py:126] *** Available Device: _DeviceAttributes(/job:worker/replica:0/task:0/device:TPU:7, TPU, 17179869184, 12353561892975659250)\n",
      "I0318 21:30:08.343375 139947819169664 tpu_system_metadata.py:126] *** Available Device: _DeviceAttributes(/job:worker/replica:0/task:0/device:TPU_SYSTEM:0, TPU_SYSTEM, 17179869184, 13051649511322538514)\n",
      "W0318 21:30:08.348037 139947819169664 deprecation.py:323] From /usr/local/lib/python2.7/dist-packages/tensorflow/python/ops/resource_variable_ops.py:435: colocate_with (from tensorflow.python.framework.ops) is deprecated and will be removed in a future version.\n",
      "Instructions for updating:\n",
      "Colocations handled automatically by placer.\n",
      "I0318 21:30:08.360340 139947819169664 estimator.py:1111] Calling model_fn.\n",
      "W0318 21:30:08.428577 139947819169664 deprecation.py:323] From /content/drive/My Drive/ResnetTPU/tpu/models/official/resnet/resnet_preprocessing.py:66: sample_distorted_bounding_box (from tensorflow.python.ops.image_ops_impl) is deprecated and will be removed in a future version.\n",
      "Instructions for updating:\n",
      "`seed2` arg is deprecated.Use sample_distorted_bounding_box_v2 instead.\n",
      "W0318 21:30:08.604914 139947819169664 deprecation.py:323] From /content/drive/My Drive/ResnetTPU/tpu/models/official/resnet/resnet_model.py:207: conv2d (from tensorflow.python.layers.convolutional) is deprecated and will be removed in a future version.\n",
      "Instructions for updating:\n",
      "Use keras.layers.conv2d instead.\n",
      "W0318 21:30:08.625629 139947819169664 deprecation.py:323] From /content/drive/My Drive/ResnetTPU/tpu/models/official/resnet/resnet_model.py:66: batch_normalization (from tensorflow.python.layers.normalization) is deprecated and will be removed in a future version.\n",
      "Instructions for updating:\n",
      "Use keras.layers.batch_normalization instead.\n",
      "W0318 21:30:08.671056 139947819169664 deprecation.py:323] From /content/drive/My Drive/ResnetTPU/tpu/models/official/resnet/resnet_model.py:409: max_pooling2d (from tensorflow.python.layers.pooling) is deprecated and will be removed in a future version.\n",
      "Instructions for updating:\n",
      "Use keras.layers.max_pooling2d instead.\n",
      "W0318 21:30:12.464607 139947819169664 deprecation.py:323] From /content/drive/My Drive/ResnetTPU/tpu/models/official/resnet/resnet_model.py:438: average_pooling2d (from tensorflow.python.layers.pooling) is deprecated and will be removed in a future version.\n",
      "Instructions for updating:\n",
      "Use keras.layers.average_pooling2d instead.\n",
      "W0318 21:30:12.469139 139947819169664 deprecation.py:323] From /content/drive/My Drive/ResnetTPU/tpu/models/official/resnet/resnet_model.py:445: dense (from tensorflow.python.layers.core) is deprecated and will be removed in a future version.\n",
      "Instructions for updating:\n",
      "Use keras.layers.dense instead.\n",
      "W0318 21:30:12.533088 139947819169664 deprecation.py:323] From /usr/local/lib/python2.7/dist-packages/tensorflow/python/ops/losses/losses_impl.py:209: to_float (from tensorflow.python.ops.math_ops) is deprecated and will be removed in a future version.\n",
      "Instructions for updating:\n",
      "Use tf.cast instead.\n",
      "I0318 21:30:12.875165 139947819169664 basic_session_run_hooks.py:527] Create CheckpointSaverHook.\n",
      "I0318 21:30:13.149769 139947819169664 estimator.py:1113] Done calling model_fn.\n",
      "I0318 21:30:15.090517 139947819169664 tpu_estimator.py:447] TPU job name worker\n",
      "I0318 21:30:15.778528 139947819169664 monitored_session.py:222] Graph was finalized.\n",
      "I0318 21:30:16.770903 139947819169664 session_manager.py:491] Running local_init_op.\n",
      "I0318 21:30:16.814174 139947819169664 session_manager.py:493] Done running local_init_op.\n",
      "I0318 21:30:20.577817 139947819169664 basic_session_run_hooks.py:594] Saving checkpoints for 0 into gs://resnet-tpu-colab/resnet-tpu-fake-data-model/model.ckpt.\n",
      "I0318 21:30:28.203411 139947819169664 util.py:51] Initialized dataset iterators in 0 seconds\n",
      "I0318 21:30:28.204279 139947819169664 session_support.py:345] Installing graceful shutdown hook.\n",
      "2019-03-18 21:30:28.204677: W tensorflow/core/distributed_runtime/rpc/grpc_session.cc:354] GrpcSession::ListDevices will initialize the session with an empty graph and other defaults because the session has not yet been created.\n",
      "I0318 21:30:28.211847 139947819169664 session_support.py:102] Creating heartbeat manager for ['/job:worker/replica:0/task:0/device:CPU:0']\n",
      "I0318 21:30:28.230180 139947819169664 session_support.py:130] Configuring worker heartbeat: shutdown_mode: WAIT_FOR_COORDINATOR\n",
      "\n",
      "I0318 21:30:28.234304 139947819169664 tpu_estimator.py:504] Init TPU system\n",
      "I0318 21:30:35.804045 139947819169664 tpu_estimator.py:510] Initialized TPU in 7 seconds\n",
      "I0318 21:30:36.473833 139946797635328 tpu_estimator.py:463] Starting infeed thread controller.\n",
      "I0318 21:30:36.474639 139946789242624 tpu_estimator.py:482] Starting outfeed thread controller.\n",
      "I0318 21:30:36.532759 139947819169664 tpu_estimator.py:536] Enqueue next (312) batch(es) of data to infeed.\n",
      "I0318 21:30:36.533550 139947819169664 tpu_estimator.py:540] Dequeue next (312) batch(es) of data from outfeed.\n",
      "I0318 21:35:08.558060 139947819169664 basic_session_run_hooks.py:594] Saving checkpoints for 312 into gs://resnet-tpu-colab/resnet-tpu-fake-data-model/model.ckpt.\n",
      "I0318 21:35:16.984333 139947819169664 basic_session_run_hooks.py:249] loss = 7.1461506, step = 312\n",
      "I0318 21:35:16.987266 139947819169664 tpu_estimator.py:536] Enqueue next (312) batch(es) of data to infeed.\n",
      "I0318 21:35:16.987639 139947819169664 tpu_estimator.py:540] Dequeue next (312) batch(es) of data from outfeed.\n",
      "I0318 21:38:30.679516 139947819169664 basic_session_run_hooks.py:594] Saving checkpoints for 624 into gs://resnet-tpu-colab/resnet-tpu-fake-data-model/model.ckpt.\n",
      "I0318 21:38:38.470767 139947819169664 tpu_profiler_hook.py:119] Saving profile at step 624 with command ['/usr/local/bin/capture_tpu_profile', '--duration_ms=60000', '--service_addr=10.41.141.74:8470', '--workers_list=10.41.141.74', '--logdir=gs://resnet-tpu-colab/resnet-tpu-fake-data-model']\n",
      "I0318 21:38:38.490556 139947819169664 basic_session_run_hooks.py:247] loss = 6.923346, step = 624 (201.506 sec)\n",
      "I0318 21:38:38.492656 139947819169664 tpu_estimator.py:1858] global_step/sec: 1.54834\n",
      "I0318 21:38:38.493824 139947819169664 tpu_estimator.py:1859] examples/sec: 6342\n",
      "I0318 21:38:38.495455 139947819169664 tpu_estimator.py:536] Enqueue next (312) batch(es) of data to infeed.\n",
      "I0318 21:38:38.495672 139947819169664 tpu_estimator.py:540] Dequeue next (312) batch(es) of data from outfeed.\n",
      "TensorFlow version 1.13.1 detected\n",
      "Welcome to the Cloud TPU Profiler v1.13.0\n",
      "Starting to profile TPU traces for 60000 ms. Remaining attempt(s): 3\n",
      "I0318 21:42:00.514720 139947819169664 basic_session_run_hooks.py:594] Saving checkpoints for 936 into gs://resnet-tpu-colab/resnet-tpu-fake-data-model/model.ckpt.\n",
      "I0318 21:42:08.146173 139947819169664 basic_session_run_hooks.py:247] loss = 6.915253, step = 936 (209.656 sec)\n",
      "I0318 21:42:08.148359 139947819169664 tpu_estimator.py:1858] global_step/sec: 1.48815\n",
      "I0318 21:42:08.148993 139947819169664 tpu_estimator.py:1859] examples/sec: 6095.47\n",
      "I0318 21:42:08.765969 139947819169664 tpu_estimator.py:545] Stop infeed thread controller\n",
      "I0318 21:42:08.766280 139947819169664 tpu_estimator.py:392] Shutting down InfeedController thread.\n",
      "I0318 21:42:08.766609 139946797635328 tpu_estimator.py:387] InfeedController received shutdown signal, stopping.\n",
      "I0318 21:42:08.767005 139946797635328 tpu_estimator.py:479] Infeed thread finished, shutting down.\n",
      "I0318 21:42:08.767301 139947819169664 error_handling.py:93] infeed marked as finished\n",
      "I0318 21:42:08.767565 139947819169664 tpu_estimator.py:549] Stop output thread controller\n",
      "I0318 21:42:08.767657 139947819169664 tpu_estimator.py:392] Shutting down OutfeedController thread.\n",
      "I0318 21:42:08.767903 139946789242624 tpu_estimator.py:387] OutfeedController received shutdown signal, stopping.\n",
      "I0318 21:42:08.768109 139946789242624 tpu_estimator.py:488] Outfeed thread finished, shutting down.\n",
      "I0318 21:42:08.768420 139947819169664 error_handling.py:93] outfeed marked as finished\n",
      "I0318 21:42:08.768661 139947819169664 tpu_estimator.py:553] Shutdown TPU system.\n",
      "I0318 21:42:11.554629 139947819169664 estimator.py:359] Loss for final step: 6.915253.\n",
      "I0318 21:42:11.555445 139947819169664 error_handling.py:93] training_loop marked as finished\n",
      "Profile session succeed for host(s):10.41.141.74\n"
     ]
    }
   ],
   "source": [
    "TPU = 'grpc://' + os.environ['COLAB_TPU_ADDR']\n",
    "!python2 resnet_main.py \\\n",
    "  --tpu=$TPU \\\n",
    "  --param_overrides=train_steps=936,iterations_per_loop=312,num_parallel_calls=128,train_batch_size=4096,num_train_images=1281167,num_label_classes=1000 \\\n",
    "  --model_dir=\"gs://<YOUR BUCKET NAME>/resnet-tpu-fake-data-model\" \\\n",
    "  --mode=train \\\n",
    "  --profile_every_n_steps=1 \\\n",
    "  --tpu_profile_duration=60000"
   ]
  },
  {
   "cell_type": "code",
   "execution_count": 0,
   "metadata": {
    "id": "pkhmZq763Q0k",
    "colab_type": "code",
    "outputId": "b1c262fc-b812-47e2-8e36-05105be37597",
    "executionInfo": {
     "status": "ok",
     "timestamp": 1.552547166965E12,
     "user_tz": 420.0,
     "elapsed": 4456.0,
     "user": {
      "displayName": "Rishabh Indoria",
      "photoUrl": "",
      "userId": "02918094268619667018"
     }
    },
    "colab": {
     "base_uri": "https://localhost:8080/",
     "height": 68.0
    },
    "collapsed": false
   },
   "outputs": [
    {
     "name": "stdout",
     "output_type": "stream",
     "text": [
      "Archive:  ngrok-stable-linux-amd64.zip\n",
      "replace ngrok? [y]es, [n]o, [A]ll, [N]one, [r]ename: y\n",
      "  inflating: ngrok                   \n"
     ]
    }
   ],
   "source": [
    "!unzip ngrok-stable-linux-amd64.zip"
   ]
  },
  {
   "cell_type": "code",
   "execution_count": 0,
   "metadata": {
    "id": "3XBa-1tv3PqA",
    "colab_type": "code",
    "outputId": "c26140ee-6966-4130-a2be-559befcc0c7d",
    "executionInfo": {
     "status": "ok",
     "timestamp": 1.552547168462E12,
     "user_tz": 420.0,
     "elapsed": 1180.0,
     "user": {
      "displayName": "Rishabh Indoria",
      "photoUrl": "",
      "userId": "02918094268619667018"
     }
    },
    "colab": {
     "base_uri": "https://localhost:8080/",
     "height": 34.0
    },
    "collapsed": false
   },
   "outputs": [
    {
     "name": "stdout",
     "output_type": "stream",
     "text": [
      "https://622a22e3.ngrok.io\n"
     ]
    }
   ],
   "source": [
    "LOG_DIR = 'gs://<YOUR BUCKET NAME>/resnet-tpu/'\n",
    "get_ipython().system_raw(\n",
    "    'tensorboard --logdir {} --host 0.0.0.0 --port 6006 &'\n",
    "    .format(LOG_DIR)\n",
    ")\n",
    "\n",
    "get_ipython().system_raw('./ngrok http 6006 &')\n",
    "\n",
    "!curl -s http://localhost:4040/api/tunnels | python3 -c \\\n",
    "    \"import sys, json; print(json.load(sys.stdin)['tunnels'][0]['public_url'])\""
   ]
  }
 ],
 "metadata": {
  "colab": {
   "name": "Fake-TPU-Resnet.ipynb",
   "version": "0.3.2",
   "provenance": [
    {
     "file_id": "1zsWCQ4i7-B1dmrlGcU42Y3IIrvGTPHm2",
     "timestamp": 1.552624219302E12
    },
    {
     "file_id": "18AN2AUM5sEsTMGUzFUL0FLSULtXF4Ps0",
     "timestamp": 1.55087050328E12
    }
   ],
   "collapsed_sections": []
  },
  "kernelspec": {
   "name": "python3",
   "display_name": "Python 3"
  },
  "accelerator": "TPU"
 },
 "nbformat": 4,
 "nbformat_minor": 0
}
